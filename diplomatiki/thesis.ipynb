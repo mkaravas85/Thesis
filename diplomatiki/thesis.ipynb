{
 "cells": [
  {
   "cell_type": "code",
   "execution_count": 1,
   "metadata": {},
   "outputs": [],
   "source": [
    "import pandas as pd\n",
    "import numpy as np\n",
    "from matplotlib import pyplot as plt\n",
    "import seaborn as sns\n",
    "from sklearn.decomposition import PCA\n",
    "from sklearn import preprocessing\n",
    "from sklearn.model_selection import train_test_split\n",
    "from sklearn.svm import SVC\n",
    "from sklearn import metrics\n",
    "from imblearn.over_sampling import SMOTE\n",
    "from sklearn.metrics import classification_report\n",
    "from imblearn.under_sampling import RandomUnderSampler\n",
    "from sklearn.pipeline import make_pipeline\n",
    "from sklearn.preprocessing import StandardScaler\n",
    "from sklearn.neural_network import MLPClassifier\n",
    "from sklearn.model_selection import RepeatedStratifiedKFold\n",
    "from sklearn.model_selection import cross_validate\n",
    "from sklearn.model_selection import cross_val_score\n",
    "from sklearn.tree import DecisionTreeClassifier\n",
    "from sklearn.ensemble import RandomForestClassifier\n",
    "from sklearn.neighbors import KNeighborsClassifier\n",
    "from sklearn.linear_model import LogisticRegression\n",
    "import tensorflow as tf\n",
    "from tensorflow.keras.layers import Dense\n",
    "from tensorflow.keras.models import  Sequential\n",
    "from sklearn.preprocessing import MinMaxScaler\n",
    "from sklearn.naive_bayes import GaussianNB\n",
    "from sklearn.naive_bayes import ComplementNB\n",
    "import keras\n",
    "from sklearn.ensemble import AdaBoostClassifier\n",
    "from sklearn.ensemble import GradientBoostingClassifier\n",
    "from sklearn.linear_model import Perceptron\n",
    "from imblearn.over_sampling import RandomOverSampler\n",
    "from imblearn.pipeline import Pipeline\n",
    "from imblearn.over_sampling import SVMSMOTE\n",
    "from imblearn.under_sampling import CondensedNearestNeighbour\n",
    "from imblearn.under_sampling import TomekLinks\n",
    "from imblearn.under_sampling import EditedNearestNeighbours\n",
    "from imblearn.under_sampling import RepeatedEditedNearestNeighbours\n",
    "from imblearn.under_sampling import AllKNN\n",
    "from imblearn.under_sampling import OneSidedSelection\n",
    "from imblearn.under_sampling import NeighbourhoodCleaningRule\n",
    "from sklearn.feature_selection import SelectKBest\n",
    "from sklearn.feature_selection import chi2\n",
    "from imblearn.combine import SMOTETomek\n",
    "from imblearn.combine import SMOTEENN\n",
    "from sklearn.model_selection import GridSearchCV\n",
    "from xgboost import XGBClassifier\n",
    "from sklearn.metrics import precision_recall_curve\n",
    "from sklearn.discriminant_analysis import LinearDiscriminantAnalysis\n",
    "from sklearn.metrics import f1_score\n",
    "from sklearn.metrics import accuracy_score\n",
    "from sklearn.calibration import CalibratedClassifierCV\n",
    "from sklearn.metrics import auc\n",
    "from sklearn.ensemble import BaggingClassifier\n",
    "from sklearn.compose import ColumnTransformer\n",
    "from sklearn.pipeline import Pipeline as pip\n",
    "from sklearn.impute import SimpleImputer"
   ]
  },
  {
   "cell_type": "code",
   "execution_count": 2,
   "metadata": {},
   "outputs": [
    {
     "data": {
      "text/html": [
       "<div>\n",
       "<style scoped>\n",
       "    .dataframe tbody tr th:only-of-type {\n",
       "        vertical-align: middle;\n",
       "    }\n",
       "\n",
       "    .dataframe tbody tr th {\n",
       "        vertical-align: top;\n",
       "    }\n",
       "\n",
       "    .dataframe thead th {\n",
       "        text-align: right;\n",
       "    }\n",
       "</style>\n",
       "<table border=\"1\" class=\"dataframe\">\n",
       "  <thead>\n",
       "    <tr style=\"text-align: right;\">\n",
       "      <th></th>\n",
       "      <th>ID</th>\n",
       "      <th>AGE</th>\n",
       "      <th>SEX</th>\n",
       "      <th>INF_ANAM</th>\n",
       "      <th>STENOK_AN</th>\n",
       "      <th>FK_STENOK</th>\n",
       "      <th>IBS_POST</th>\n",
       "      <th>IBS_NASL</th>\n",
       "      <th>GB</th>\n",
       "      <th>SIM_GIPERT</th>\n",
       "      <th>...</th>\n",
       "      <th>JELUD_TAH</th>\n",
       "      <th>FIBR_JELUD</th>\n",
       "      <th>A_V_BLOK</th>\n",
       "      <th>OTEK_LANC</th>\n",
       "      <th>RAZRIV</th>\n",
       "      <th>DRESSLER</th>\n",
       "      <th>ZSN</th>\n",
       "      <th>REC_IM</th>\n",
       "      <th>P_IM_STEN</th>\n",
       "      <th>LET_IS</th>\n",
       "    </tr>\n",
       "  </thead>\n",
       "  <tbody>\n",
       "    <tr>\n",
       "      <th>0</th>\n",
       "      <td>1</td>\n",
       "      <td>77.0</td>\n",
       "      <td>1</td>\n",
       "      <td>2.0</td>\n",
       "      <td>1.0</td>\n",
       "      <td>1.0</td>\n",
       "      <td>2.0</td>\n",
       "      <td>NaN</td>\n",
       "      <td>3.0</td>\n",
       "      <td>0.0</td>\n",
       "      <td>...</td>\n",
       "      <td>0</td>\n",
       "      <td>0</td>\n",
       "      <td>0</td>\n",
       "      <td>0</td>\n",
       "      <td>0</td>\n",
       "      <td>0</td>\n",
       "      <td>0</td>\n",
       "      <td>0</td>\n",
       "      <td>0</td>\n",
       "      <td>0</td>\n",
       "    </tr>\n",
       "    <tr>\n",
       "      <th>1</th>\n",
       "      <td>2</td>\n",
       "      <td>55.0</td>\n",
       "      <td>1</td>\n",
       "      <td>1.0</td>\n",
       "      <td>0.0</td>\n",
       "      <td>0.0</td>\n",
       "      <td>0.0</td>\n",
       "      <td>0.0</td>\n",
       "      <td>0.0</td>\n",
       "      <td>0.0</td>\n",
       "      <td>...</td>\n",
       "      <td>0</td>\n",
       "      <td>0</td>\n",
       "      <td>0</td>\n",
       "      <td>0</td>\n",
       "      <td>0</td>\n",
       "      <td>0</td>\n",
       "      <td>0</td>\n",
       "      <td>0</td>\n",
       "      <td>0</td>\n",
       "      <td>0</td>\n",
       "    </tr>\n",
       "    <tr>\n",
       "      <th>2</th>\n",
       "      <td>3</td>\n",
       "      <td>52.0</td>\n",
       "      <td>1</td>\n",
       "      <td>0.0</td>\n",
       "      <td>0.0</td>\n",
       "      <td>0.0</td>\n",
       "      <td>2.0</td>\n",
       "      <td>NaN</td>\n",
       "      <td>2.0</td>\n",
       "      <td>0.0</td>\n",
       "      <td>...</td>\n",
       "      <td>0</td>\n",
       "      <td>0</td>\n",
       "      <td>0</td>\n",
       "      <td>0</td>\n",
       "      <td>0</td>\n",
       "      <td>0</td>\n",
       "      <td>0</td>\n",
       "      <td>0</td>\n",
       "      <td>0</td>\n",
       "      <td>0</td>\n",
       "    </tr>\n",
       "    <tr>\n",
       "      <th>3</th>\n",
       "      <td>4</td>\n",
       "      <td>68.0</td>\n",
       "      <td>0</td>\n",
       "      <td>0.0</td>\n",
       "      <td>0.0</td>\n",
       "      <td>0.0</td>\n",
       "      <td>2.0</td>\n",
       "      <td>NaN</td>\n",
       "      <td>2.0</td>\n",
       "      <td>0.0</td>\n",
       "      <td>...</td>\n",
       "      <td>0</td>\n",
       "      <td>0</td>\n",
       "      <td>0</td>\n",
       "      <td>0</td>\n",
       "      <td>0</td>\n",
       "      <td>0</td>\n",
       "      <td>1</td>\n",
       "      <td>0</td>\n",
       "      <td>0</td>\n",
       "      <td>0</td>\n",
       "    </tr>\n",
       "    <tr>\n",
       "      <th>4</th>\n",
       "      <td>5</td>\n",
       "      <td>60.0</td>\n",
       "      <td>1</td>\n",
       "      <td>0.0</td>\n",
       "      <td>0.0</td>\n",
       "      <td>0.0</td>\n",
       "      <td>2.0</td>\n",
       "      <td>NaN</td>\n",
       "      <td>3.0</td>\n",
       "      <td>0.0</td>\n",
       "      <td>...</td>\n",
       "      <td>0</td>\n",
       "      <td>0</td>\n",
       "      <td>0</td>\n",
       "      <td>0</td>\n",
       "      <td>0</td>\n",
       "      <td>0</td>\n",
       "      <td>0</td>\n",
       "      <td>0</td>\n",
       "      <td>0</td>\n",
       "      <td>0</td>\n",
       "    </tr>\n",
       "    <tr>\n",
       "      <th>...</th>\n",
       "      <td>...</td>\n",
       "      <td>...</td>\n",
       "      <td>...</td>\n",
       "      <td>...</td>\n",
       "      <td>...</td>\n",
       "      <td>...</td>\n",
       "      <td>...</td>\n",
       "      <td>...</td>\n",
       "      <td>...</td>\n",
       "      <td>...</td>\n",
       "      <td>...</td>\n",
       "      <td>...</td>\n",
       "      <td>...</td>\n",
       "      <td>...</td>\n",
       "      <td>...</td>\n",
       "      <td>...</td>\n",
       "      <td>...</td>\n",
       "      <td>...</td>\n",
       "      <td>...</td>\n",
       "      <td>...</td>\n",
       "      <td>...</td>\n",
       "    </tr>\n",
       "    <tr>\n",
       "      <th>1695</th>\n",
       "      <td>1696</td>\n",
       "      <td>77.0</td>\n",
       "      <td>0</td>\n",
       "      <td>0.0</td>\n",
       "      <td>4.0</td>\n",
       "      <td>2.0</td>\n",
       "      <td>1.0</td>\n",
       "      <td>NaN</td>\n",
       "      <td>2.0</td>\n",
       "      <td>0.0</td>\n",
       "      <td>...</td>\n",
       "      <td>0</td>\n",
       "      <td>0</td>\n",
       "      <td>1</td>\n",
       "      <td>0</td>\n",
       "      <td>1</td>\n",
       "      <td>0</td>\n",
       "      <td>0</td>\n",
       "      <td>0</td>\n",
       "      <td>0</td>\n",
       "      <td>3</td>\n",
       "    </tr>\n",
       "    <tr>\n",
       "      <th>1696</th>\n",
       "      <td>1697</td>\n",
       "      <td>70.0</td>\n",
       "      <td>0</td>\n",
       "      <td>0.0</td>\n",
       "      <td>6.0</td>\n",
       "      <td>2.0</td>\n",
       "      <td>1.0</td>\n",
       "      <td>NaN</td>\n",
       "      <td>2.0</td>\n",
       "      <td>0.0</td>\n",
       "      <td>...</td>\n",
       "      <td>0</td>\n",
       "      <td>0</td>\n",
       "      <td>0</td>\n",
       "      <td>0</td>\n",
       "      <td>0</td>\n",
       "      <td>0</td>\n",
       "      <td>0</td>\n",
       "      <td>0</td>\n",
       "      <td>0</td>\n",
       "      <td>1</td>\n",
       "    </tr>\n",
       "    <tr>\n",
       "      <th>1697</th>\n",
       "      <td>1698</td>\n",
       "      <td>55.0</td>\n",
       "      <td>1</td>\n",
       "      <td>3.0</td>\n",
       "      <td>6.0</td>\n",
       "      <td>2.0</td>\n",
       "      <td>2.0</td>\n",
       "      <td>NaN</td>\n",
       "      <td>0.0</td>\n",
       "      <td>0.0</td>\n",
       "      <td>...</td>\n",
       "      <td>0</td>\n",
       "      <td>0</td>\n",
       "      <td>0</td>\n",
       "      <td>0</td>\n",
       "      <td>0</td>\n",
       "      <td>0</td>\n",
       "      <td>0</td>\n",
       "      <td>1</td>\n",
       "      <td>0</td>\n",
       "      <td>6</td>\n",
       "    </tr>\n",
       "    <tr>\n",
       "      <th>1698</th>\n",
       "      <td>1699</td>\n",
       "      <td>79.0</td>\n",
       "      <td>0</td>\n",
       "      <td>2.0</td>\n",
       "      <td>2.0</td>\n",
       "      <td>2.0</td>\n",
       "      <td>1.0</td>\n",
       "      <td>NaN</td>\n",
       "      <td>2.0</td>\n",
       "      <td>0.0</td>\n",
       "      <td>...</td>\n",
       "      <td>0</td>\n",
       "      <td>0</td>\n",
       "      <td>0</td>\n",
       "      <td>1</td>\n",
       "      <td>0</td>\n",
       "      <td>0</td>\n",
       "      <td>0</td>\n",
       "      <td>0</td>\n",
       "      <td>0</td>\n",
       "      <td>1</td>\n",
       "    </tr>\n",
       "    <tr>\n",
       "      <th>1699</th>\n",
       "      <td>1700</td>\n",
       "      <td>63.0</td>\n",
       "      <td>1</td>\n",
       "      <td>2.0</td>\n",
       "      <td>NaN</td>\n",
       "      <td>NaN</td>\n",
       "      <td>NaN</td>\n",
       "      <td>NaN</td>\n",
       "      <td>2.0</td>\n",
       "      <td>0.0</td>\n",
       "      <td>...</td>\n",
       "      <td>0</td>\n",
       "      <td>0</td>\n",
       "      <td>0</td>\n",
       "      <td>0</td>\n",
       "      <td>0</td>\n",
       "      <td>0</td>\n",
       "      <td>0</td>\n",
       "      <td>0</td>\n",
       "      <td>0</td>\n",
       "      <td>1</td>\n",
       "    </tr>\n",
       "  </tbody>\n",
       "</table>\n",
       "<p>1700 rows × 124 columns</p>\n",
       "</div>"
      ],
      "text/plain": [
       "        ID   AGE  SEX  INF_ANAM  STENOK_AN  FK_STENOK  IBS_POST  IBS_NASL  \\\n",
       "0        1  77.0    1       2.0        1.0        1.0       2.0       NaN   \n",
       "1        2  55.0    1       1.0        0.0        0.0       0.0       0.0   \n",
       "2        3  52.0    1       0.0        0.0        0.0       2.0       NaN   \n",
       "3        4  68.0    0       0.0        0.0        0.0       2.0       NaN   \n",
       "4        5  60.0    1       0.0        0.0        0.0       2.0       NaN   \n",
       "...    ...   ...  ...       ...        ...        ...       ...       ...   \n",
       "1695  1696  77.0    0       0.0        4.0        2.0       1.0       NaN   \n",
       "1696  1697  70.0    0       0.0        6.0        2.0       1.0       NaN   \n",
       "1697  1698  55.0    1       3.0        6.0        2.0       2.0       NaN   \n",
       "1698  1699  79.0    0       2.0        2.0        2.0       1.0       NaN   \n",
       "1699  1700  63.0    1       2.0        NaN        NaN       NaN       NaN   \n",
       "\n",
       "       GB  SIM_GIPERT  ...  JELUD_TAH  FIBR_JELUD  A_V_BLOK  OTEK_LANC  \\\n",
       "0     3.0         0.0  ...          0           0         0          0   \n",
       "1     0.0         0.0  ...          0           0         0          0   \n",
       "2     2.0         0.0  ...          0           0         0          0   \n",
       "3     2.0         0.0  ...          0           0         0          0   \n",
       "4     3.0         0.0  ...          0           0         0          0   \n",
       "...   ...         ...  ...        ...         ...       ...        ...   \n",
       "1695  2.0         0.0  ...          0           0         1          0   \n",
       "1696  2.0         0.0  ...          0           0         0          0   \n",
       "1697  0.0         0.0  ...          0           0         0          0   \n",
       "1698  2.0         0.0  ...          0           0         0          1   \n",
       "1699  2.0         0.0  ...          0           0         0          0   \n",
       "\n",
       "      RAZRIV  DRESSLER  ZSN  REC_IM  P_IM_STEN  LET_IS  \n",
       "0          0         0    0       0          0       0  \n",
       "1          0         0    0       0          0       0  \n",
       "2          0         0    0       0          0       0  \n",
       "3          0         0    1       0          0       0  \n",
       "4          0         0    0       0          0       0  \n",
       "...      ...       ...  ...     ...        ...     ...  \n",
       "1695       1         0    0       0          0       3  \n",
       "1696       0         0    0       0          0       1  \n",
       "1697       0         0    0       1          0       6  \n",
       "1698       0         0    0       0          0       1  \n",
       "1699       0         0    0       0          0       1  \n",
       "\n",
       "[1700 rows x 124 columns]"
      ]
     },
     "execution_count": 2,
     "metadata": {},
     "output_type": "execute_result"
    }
   ],
   "source": [
    "mic_df=pd.read_csv(\"C:\\\\BIG DATA\\\\thesis\\\\12045261\\\\Myocardial infarction complications Database.csv\")\n",
    "mic_df"
   ]
  },
  {
   "cell_type": "code",
   "execution_count": 3,
   "metadata": {},
   "outputs": [
    {
     "name": "stdout",
     "output_type": "stream",
     "text": [
      "60.85573539760732\n",
      "67.1070110701107\n"
     ]
    },
    {
     "data": {
      "text/plain": [
       "count    1692.000000\n",
       "mean       61.856974\n",
       "std        11.259936\n",
       "min        26.000000\n",
       "25%        54.000000\n",
       "50%        63.000000\n",
       "75%        70.000000\n",
       "max        92.000000\n",
       "Name: AGE, dtype: float64"
      ]
     },
     "execution_count": 3,
     "metadata": {},
     "output_type": "execute_result"
    },
    {
     "data": {
      "image/png": "[encoded data removed]",
      "text/plain": [
       "<Figure size 432x288 with 1 Axes>"
      ]
     },
     "metadata": {
      "needs_background": "light"
     },
     "output_type": "display_data"
    }
   ],
   "source": [
    "#BOXPLOT=ΘΗΚΟΓΡΑΜΜΑ\n",
    "print(mic_df.loc[(mic_df[\"LET_IS\"]==0),\"AGE\"].mean())\n",
    "print(mic_df.loc[(mic_df[\"LET_IS\"]!=0),\"AGE\"].mean())\n",
    "#mic_df.groupby('SEX')[\"AGE\"].mean().plot.bar(xlabel=\"Φύλο\",color=[\"pink\",\"cyan\"]).set_xticklabels(['Γυναίκες','Άνδρες'],rotation=0)\n",
    "mic_df.boxplot(column=['AGE'],by=\"SEX\",grid=False).set_xticklabels(['Γυναίκες','Άνδρες'])#ΗΛΙΚΙΑΚΗ ΚΑΤΑΝΟΜΗ DATASET ANA ΦΥΛΟ\n",
    "plt.title('')\n",
    "plt.suptitle('')\n",
    "plt.xlabel('Φύλο')\n",
    "mic_df[\"AGE\"].describe()"
   ]
  },
  {
   "cell_type": "markdown",
   "metadata": {},
   "source": [
    "EDA"
   ]
  },
  {
   "cell_type": "code",
   "execution_count": 8,
   "metadata": {},
   "outputs": [
    {
     "name": "stdout",
     "output_type": "stream",
     "text": [
      "67.1070110701107\n",
      "SEX\n",
      "0    67.597156\n",
      "1    58.425873\n",
      "Name: AGE, dtype: float64\n"
     ]
    },
    {
     "data": {
      "image/png": "[encoded data removed]",
      "text/plain": [
       "<Figure size 432x288 with 1 Axes>"
      ]
     },
     "metadata": {
      "needs_background": "light"
     },
     "output_type": "display_data"
    }
   ],
   "source": [
    "#MESH HLIKIA THANONTWN, MESH HLIKIA THANONTWN ANA FYLO\n",
    "print(mic_df.loc[mic_df.LET_IS!=0,\"AGE\"].mean())#MESH HLIKIA THANONTWN\n",
    "mic_df.loc[mic_df.LET_IS!=0].boxplot(column=['AGE'],by=\"SEX\",grid=False).set_xticklabels(['Γυναίκες','Άνδρες'])#BOXPLOT THANONTWN ANA FYLO\n",
    "plt.title('')\n",
    "plt.suptitle('')\n",
    "plt.xlabel('Φύλο')\n",
    "print(mic_df.groupby('SEX')[\"AGE\"].mean())"
   ]
  },
  {
   "cell_type": "code",
   "execution_count": 5,
   "metadata": {},
   "outputs": [
    {
     "data": {
      "text/plain": [
       "<AxesSubplot:xlabel='index'>"
      ]
     },
     "execution_count": 5,
     "metadata": {},
     "output_type": "execute_result"
    },
    {
     "data": {
      "image/png": "[encoded data removed]",
      "text/plain": [
       "<Figure size 3600x792 with 1 Axes>"
      ]
     },
     "metadata": {
      "needs_background": "light"
     },
     "output_type": "display_data"
    }
   ],
   "source": [
    "\n",
    "mic_df.isna().sum()\n",
    "mic_df.isna().sum().reset_index(name='n').plot.bar(x='index',y='n',rot=90,figsize=(50,11))\n",
    "\n"
   ]
  },
  {
   "cell_type": "markdown",
   "metadata": {},
   "source": [
    "## Handling Missing Values"
   ]
  },
  {
   "cell_type": "code",
   "execution_count": 6,
   "metadata": {},
   "outputs": [
    {
     "name": "stdout",
     "output_type": "stream",
     "text": [
      "AGE\n",
      "60.85573539760732\n",
      "67.1070110701107\n",
      "S_AD_ORIT\n",
      "138.34476843910807\n",
      "118.18352059925094\n",
      "D_AD_ORIT\n",
      "85.18010291595198\n",
      "72.13483146067416\n",
      "K_BLOOD\n",
      "4.188147497805092\n",
      "4.211052631578947\n",
      "NA_BLOOD\n",
      "136.60616740088105\n",
      "136.22105263157894\n",
      "ALT_BLOOD\n",
      "0.4833472106577852\n",
      "0.4708837209302326\n",
      "AST_BLOOD\n",
      "0.2608666666666667\n",
      "0.27962790697674417\n",
      "L_BLOOD\n",
      "8.542246108228317\n",
      "10.219469026548675\n",
      "ROE\n",
      "12.970519782777346\n",
      "16.384615384615383\n"
     ]
    }
   ],
   "source": [
    "#Οι στηλες IBS_NASL, KFK_BLOOD,ΚΑΘΩΣ ΚΑΙ ΟΙ ,S_AD_KBRIG,D_AD_KBRIG αποτελουνται σχεδον αποκλειστικα απο missing values και γινονται drop. Drop kanoume episis kai to id\n",
    "mic_df.drop([\"ID\",\"IBS_NASL\",\"KFK_BLOOD\",\"S_AD_KBRIG\",\"D_AD_KBRIG\"],inplace=True,axis=1)\n",
    "#mic_df.drop([\"ID\",\"IBS_NASL\",\"KFK_BLOOD\"],inplace=True,axis=1)\n",
    "\n",
    "lst=[\"AGE\",\"S_AD_ORIT\",\"D_AD_ORIT\",\"K_BLOOD\",\"NA_BLOOD\",\"ALT_BLOOD\",\"AST_BLOOD\",\"L_BLOOD\",\"ROE\"]\n",
    "for col in lst:\n",
    "        print(col)\n",
    "        print(mic_df.loc[(mic_df[\"LET_IS\"]==0),col].mean())\n",
    "        print(mic_df.loc[(mic_df[\"LET_IS\"]!=0),col].mean())\n",
    "        \n",
    "#ΦΤΙΑΞΕ PLOTS ΓΙΑ τα πιο ενδιαφεροντα απο ΑΥΤΑ !!!!!!!!!!!!!!!!!! ΚΩΔΙΚΑΣ ΕΤΟΙΜΟΣ ΠΑΡΑΠΑΝΩ ΓΙΑ ΤΟ AGE, Για το death (LET_IS!=0) φτιαξτο παρακατω που κανεις το let_is να παιρνει 2 τιμες"
   ]
  },
  {
   "cell_type": "code",
   "execution_count": null,
   "metadata": {},
   "outputs": [],
   "source": []
  },
  {
   "cell_type": "code",
   "execution_count": 7,
   "metadata": {},
   "outputs": [
    {
     "ename": "SyntaxError",
     "evalue": "invalid syntax (Temp/ipykernel_6276/2356350834.py, line 10)",
     "output_type": "error",
     "traceback": [
      "\u001b[1;36m  File \u001b[1;32m\"C:\\Users\\mixalis\\AppData\\Local\\Temp/ipykernel_6276/2356350834.py\"\u001b[1;36m, line \u001b[1;32m10\u001b[0m\n\u001b[1;33m    preprocessor = ColumnTransformer(\u001b[0m\n\u001b[1;37m    ^\u001b[0m\n\u001b[1;31mSyntaxError\u001b[0m\u001b[1;31m:\u001b[0m invalid syntax\n"
     ]
    }
   ],
   "source": [
    "#Αντικατασταση missing values με τον ιδιο τροπο με τον απο κατω αλλα μεσω ColumnTransformer προκειμενου να χρησιμοποιηθει μετα σε αλλο pipeline μαζι με cross validation Και να ναι \n",
    "#απολυτα σωστο χωρις ιχνος data leakage\n",
    "#Aν θες να βαλεις και scaler τοτε η απο κατω γραμμη θα γινει ως εξης:numeric_transformer = Pipeline(steps=[(\"imputer\", SimpleImputer(strategy=\"mean\")), (\"scaler\", StandardScaler())])\n",
    "numeric_transformer = SimpleImputer(strategy=\"mean\")\n",
    "\n",
    "l1=mic_df.columns.values.tolist()#Παιρνω τα ονοματα ολων των στηλων σε λιστα\n",
    "categorical_features = [x for x in l1 if x not in lst]#Απο την παραπανω λιστα αφαιρω τα ονοματα ΤΩΝ CATEGORICAL FEATURES\n",
    "categorical_transformer = pip.Pipeline(steps=[(\"imputer\", SimpleImputer(strategy=\"most_frequent\"))\n",
    "\n",
    "preprocessor = ColumnTransformer(\n",
    "    transformers=[\n",
    "        (\"num\", numeric_transformer, lst),\n",
    "        (\"cat\", categorical_transformer, categorical_features),\n",
    "    ]\n",
    ")\n",
    "clf = Pipeline(\n",
    "    steps=[(\"preprocessor\", preprocessor), (\"classifier\", LogisticRegression())]\n",
    ")"
   ]
  },
  {
   "cell_type": "code",
   "execution_count": null,
   "metadata": {},
   "outputs": [
    {
     "data": {
      "text/html": [
       "<div>\n",
       "<style scoped>\n",
       "    .dataframe tbody tr th:only-of-type {\n",
       "        vertical-align: middle;\n",
       "    }\n",
       "\n",
       "    .dataframe tbody tr th {\n",
       "        vertical-align: top;\n",
       "    }\n",
       "\n",
       "    .dataframe thead th {\n",
       "        text-align: right;\n",
       "    }\n",
       "</style>\n",
       "<table border=\"1\" class=\"dataframe\">\n",
       "  <thead>\n",
       "    <tr style=\"text-align: right;\">\n",
       "      <th></th>\n",
       "      <th>AGE</th>\n",
       "      <th>SEX</th>\n",
       "      <th>INF_ANAM</th>\n",
       "      <th>STENOK_AN</th>\n",
       "      <th>FK_STENOK</th>\n",
       "      <th>IBS_POST</th>\n",
       "      <th>GB</th>\n",
       "      <th>SIM_GIPERT</th>\n",
       "      <th>DLIT_AG</th>\n",
       "      <th>ZSN_A</th>\n",
       "      <th>...</th>\n",
       "      <th>JELUD_TAH</th>\n",
       "      <th>FIBR_JELUD</th>\n",
       "      <th>A_V_BLOK</th>\n",
       "      <th>OTEK_LANC</th>\n",
       "      <th>RAZRIV</th>\n",
       "      <th>DRESSLER</th>\n",
       "      <th>ZSN</th>\n",
       "      <th>REC_IM</th>\n",
       "      <th>P_IM_STEN</th>\n",
       "      <th>LET_IS</th>\n",
       "    </tr>\n",
       "  </thead>\n",
       "  <tbody>\n",
       "    <tr>\n",
       "      <th>0</th>\n",
       "      <td>77.0</td>\n",
       "      <td>1</td>\n",
       "      <td>2.0</td>\n",
       "      <td>1.0</td>\n",
       "      <td>1.0</td>\n",
       "      <td>2.0</td>\n",
       "      <td>3.0</td>\n",
       "      <td>0.0</td>\n",
       "      <td>7.0</td>\n",
       "      <td>0.0</td>\n",
       "      <td>...</td>\n",
       "      <td>0</td>\n",
       "      <td>0</td>\n",
       "      <td>0</td>\n",
       "      <td>0</td>\n",
       "      <td>0</td>\n",
       "      <td>0</td>\n",
       "      <td>0</td>\n",
       "      <td>0</td>\n",
       "      <td>0</td>\n",
       "      <td>0</td>\n",
       "    </tr>\n",
       "    <tr>\n",
       "      <th>1</th>\n",
       "      <td>55.0</td>\n",
       "      <td>1</td>\n",
       "      <td>1.0</td>\n",
       "      <td>0.0</td>\n",
       "      <td>0.0</td>\n",
       "      <td>0.0</td>\n",
       "      <td>0.0</td>\n",
       "      <td>0.0</td>\n",
       "      <td>0.0</td>\n",
       "      <td>0.0</td>\n",
       "      <td>...</td>\n",
       "      <td>0</td>\n",
       "      <td>0</td>\n",
       "      <td>0</td>\n",
       "      <td>0</td>\n",
       "      <td>0</td>\n",
       "      <td>0</td>\n",
       "      <td>0</td>\n",
       "      <td>0</td>\n",
       "      <td>0</td>\n",
       "      <td>0</td>\n",
       "    </tr>\n",
       "    <tr>\n",
       "      <th>2</th>\n",
       "      <td>52.0</td>\n",
       "      <td>1</td>\n",
       "      <td>0.0</td>\n",
       "      <td>0.0</td>\n",
       "      <td>0.0</td>\n",
       "      <td>2.0</td>\n",
       "      <td>2.0</td>\n",
       "      <td>0.0</td>\n",
       "      <td>2.0</td>\n",
       "      <td>0.0</td>\n",
       "      <td>...</td>\n",
       "      <td>0</td>\n",
       "      <td>0</td>\n",
       "      <td>0</td>\n",
       "      <td>0</td>\n",
       "      <td>0</td>\n",
       "      <td>0</td>\n",
       "      <td>0</td>\n",
       "      <td>0</td>\n",
       "      <td>0</td>\n",
       "      <td>0</td>\n",
       "    </tr>\n",
       "    <tr>\n",
       "      <th>3</th>\n",
       "      <td>68.0</td>\n",
       "      <td>0</td>\n",
       "      <td>0.0</td>\n",
       "      <td>0.0</td>\n",
       "      <td>0.0</td>\n",
       "      <td>2.0</td>\n",
       "      <td>2.0</td>\n",
       "      <td>0.0</td>\n",
       "      <td>3.0</td>\n",
       "      <td>1.0</td>\n",
       "      <td>...</td>\n",
       "      <td>0</td>\n",
       "      <td>0</td>\n",
       "      <td>0</td>\n",
       "      <td>0</td>\n",
       "      <td>0</td>\n",
       "      <td>0</td>\n",
       "      <td>1</td>\n",
       "      <td>0</td>\n",
       "      <td>0</td>\n",
       "      <td>0</td>\n",
       "    </tr>\n",
       "    <tr>\n",
       "      <th>4</th>\n",
       "      <td>60.0</td>\n",
       "      <td>1</td>\n",
       "      <td>0.0</td>\n",
       "      <td>0.0</td>\n",
       "      <td>0.0</td>\n",
       "      <td>2.0</td>\n",
       "      <td>3.0</td>\n",
       "      <td>0.0</td>\n",
       "      <td>7.0</td>\n",
       "      <td>0.0</td>\n",
       "      <td>...</td>\n",
       "      <td>0</td>\n",
       "      <td>0</td>\n",
       "      <td>0</td>\n",
       "      <td>0</td>\n",
       "      <td>0</td>\n",
       "      <td>0</td>\n",
       "      <td>0</td>\n",
       "      <td>0</td>\n",
       "      <td>0</td>\n",
       "      <td>0</td>\n",
       "    </tr>\n",
       "    <tr>\n",
       "      <th>...</th>\n",
       "      <td>...</td>\n",
       "      <td>...</td>\n",
       "      <td>...</td>\n",
       "      <td>...</td>\n",
       "      <td>...</td>\n",
       "      <td>...</td>\n",
       "      <td>...</td>\n",
       "      <td>...</td>\n",
       "      <td>...</td>\n",
       "      <td>...</td>\n",
       "      <td>...</td>\n",
       "      <td>...</td>\n",
       "      <td>...</td>\n",
       "      <td>...</td>\n",
       "      <td>...</td>\n",
       "      <td>...</td>\n",
       "      <td>...</td>\n",
       "      <td>...</td>\n",
       "      <td>...</td>\n",
       "      <td>...</td>\n",
       "      <td>...</td>\n",
       "    </tr>\n",
       "    <tr>\n",
       "      <th>1695</th>\n",
       "      <td>77.0</td>\n",
       "      <td>0</td>\n",
       "      <td>0.0</td>\n",
       "      <td>4.0</td>\n",
       "      <td>2.0</td>\n",
       "      <td>1.0</td>\n",
       "      <td>2.0</td>\n",
       "      <td>0.0</td>\n",
       "      <td>7.0</td>\n",
       "      <td>0.0</td>\n",
       "      <td>...</td>\n",
       "      <td>0</td>\n",
       "      <td>0</td>\n",
       "      <td>1</td>\n",
       "      <td>0</td>\n",
       "      <td>1</td>\n",
       "      <td>0</td>\n",
       "      <td>0</td>\n",
       "      <td>0</td>\n",
       "      <td>0</td>\n",
       "      <td>3</td>\n",
       "    </tr>\n",
       "    <tr>\n",
       "      <th>1696</th>\n",
       "      <td>70.0</td>\n",
       "      <td>0</td>\n",
       "      <td>0.0</td>\n",
       "      <td>6.0</td>\n",
       "      <td>2.0</td>\n",
       "      <td>1.0</td>\n",
       "      <td>2.0</td>\n",
       "      <td>0.0</td>\n",
       "      <td>7.0</td>\n",
       "      <td>0.0</td>\n",
       "      <td>...</td>\n",
       "      <td>0</td>\n",
       "      <td>0</td>\n",
       "      <td>0</td>\n",
       "      <td>0</td>\n",
       "      <td>0</td>\n",
       "      <td>0</td>\n",
       "      <td>0</td>\n",
       "      <td>0</td>\n",
       "      <td>0</td>\n",
       "      <td>1</td>\n",
       "    </tr>\n",
       "    <tr>\n",
       "      <th>1697</th>\n",
       "      <td>55.0</td>\n",
       "      <td>1</td>\n",
       "      <td>3.0</td>\n",
       "      <td>6.0</td>\n",
       "      <td>2.0</td>\n",
       "      <td>2.0</td>\n",
       "      <td>0.0</td>\n",
       "      <td>0.0</td>\n",
       "      <td>0.0</td>\n",
       "      <td>0.0</td>\n",
       "      <td>...</td>\n",
       "      <td>0</td>\n",
       "      <td>0</td>\n",
       "      <td>0</td>\n",
       "      <td>0</td>\n",
       "      <td>0</td>\n",
       "      <td>0</td>\n",
       "      <td>0</td>\n",
       "      <td>1</td>\n",
       "      <td>0</td>\n",
       "      <td>6</td>\n",
       "    </tr>\n",
       "    <tr>\n",
       "      <th>1698</th>\n",
       "      <td>79.0</td>\n",
       "      <td>0</td>\n",
       "      <td>2.0</td>\n",
       "      <td>2.0</td>\n",
       "      <td>2.0</td>\n",
       "      <td>1.0</td>\n",
       "      <td>2.0</td>\n",
       "      <td>0.0</td>\n",
       "      <td>7.0</td>\n",
       "      <td>0.0</td>\n",
       "      <td>...</td>\n",
       "      <td>0</td>\n",
       "      <td>0</td>\n",
       "      <td>0</td>\n",
       "      <td>1</td>\n",
       "      <td>0</td>\n",
       "      <td>0</td>\n",
       "      <td>0</td>\n",
       "      <td>0</td>\n",
       "      <td>0</td>\n",
       "      <td>1</td>\n",
       "    </tr>\n",
       "    <tr>\n",
       "      <th>1699</th>\n",
       "      <td>63.0</td>\n",
       "      <td>1</td>\n",
       "      <td>2.0</td>\n",
       "      <td>0.0</td>\n",
       "      <td>2.0</td>\n",
       "      <td>2.0</td>\n",
       "      <td>2.0</td>\n",
       "      <td>0.0</td>\n",
       "      <td>0.0</td>\n",
       "      <td>4.0</td>\n",
       "      <td>...</td>\n",
       "      <td>0</td>\n",
       "      <td>0</td>\n",
       "      <td>0</td>\n",
       "      <td>0</td>\n",
       "      <td>0</td>\n",
       "      <td>0</td>\n",
       "      <td>0</td>\n",
       "      <td>0</td>\n",
       "      <td>0</td>\n",
       "      <td>1</td>\n",
       "    </tr>\n",
       "  </tbody>\n",
       "</table>\n",
       "<p>1700 rows × 119 columns</p>\n",
       "</div>"
      ],
      "text/plain": [
       "       AGE  SEX  INF_ANAM  STENOK_AN  FK_STENOK  IBS_POST   GB  SIM_GIPERT  \\\n",
       "0     77.0    1       2.0        1.0        1.0       2.0  3.0         0.0   \n",
       "1     55.0    1       1.0        0.0        0.0       0.0  0.0         0.0   \n",
       "2     52.0    1       0.0        0.0        0.0       2.0  2.0         0.0   \n",
       "3     68.0    0       0.0        0.0        0.0       2.0  2.0         0.0   \n",
       "4     60.0    1       0.0        0.0        0.0       2.0  3.0         0.0   \n",
       "...    ...  ...       ...        ...        ...       ...  ...         ...   \n",
       "1695  77.0    0       0.0        4.0        2.0       1.0  2.0         0.0   \n",
       "1696  70.0    0       0.0        6.0        2.0       1.0  2.0         0.0   \n",
       "1697  55.0    1       3.0        6.0        2.0       2.0  0.0         0.0   \n",
       "1698  79.0    0       2.0        2.0        2.0       1.0  2.0         0.0   \n",
       "1699  63.0    1       2.0        0.0        2.0       2.0  2.0         0.0   \n",
       "\n",
       "      DLIT_AG  ZSN_A  ...  JELUD_TAH  FIBR_JELUD  A_V_BLOK  OTEK_LANC  RAZRIV  \\\n",
       "0         7.0    0.0  ...          0           0         0          0       0   \n",
       "1         0.0    0.0  ...          0           0         0          0       0   \n",
       "2         2.0    0.0  ...          0           0         0          0       0   \n",
       "3         3.0    1.0  ...          0           0         0          0       0   \n",
       "4         7.0    0.0  ...          0           0         0          0       0   \n",
       "...       ...    ...  ...        ...         ...       ...        ...     ...   \n",
       "1695      7.0    0.0  ...          0           0         1          0       1   \n",
       "1696      7.0    0.0  ...          0           0         0          0       0   \n",
       "1697      0.0    0.0  ...          0           0         0          0       0   \n",
       "1698      7.0    0.0  ...          0           0         0          1       0   \n",
       "1699      0.0    4.0  ...          0           0         0          0       0   \n",
       "\n",
       "      DRESSLER  ZSN  REC_IM  P_IM_STEN  LET_IS  \n",
       "0            0    0       0          0       0  \n",
       "1            0    0       0          0       0  \n",
       "2            0    0       0          0       0  \n",
       "3            0    1       0          0       0  \n",
       "4            0    0       0          0       0  \n",
       "...        ...  ...     ...        ...     ...  \n",
       "1695         0    0       0          0       3  \n",
       "1696         0    0       0          0       1  \n",
       "1697         0    0       1          0       6  \n",
       "1698         0    0       0          0       1  \n",
       "1699         0    0       0          0       1  \n",
       "\n",
       "[1700 rows x 119 columns]"
      ]
     },
     "execution_count": 18,
     "metadata": {},
     "output_type": "execute_result"
    }
   ],
   "source": [
    "#Αντικατασταση missing values με mean στηλης για στηλες με συνεχεις τιμες\n",
    "for col in lst:\n",
    "        mic_df[col].fillna(value=mic_df[col].mean(),inplace=True)\n",
    "#Αντικατασταση missing values με most common value (=mode) για τις υπολοιπες στηλες\n",
    "df2=mic_df.fillna(mic_df.mode().iloc[0])\n",
    "df2"
   ]
  },
  {
   "cell_type": "code",
   "execution_count": null,
   "metadata": {},
   "outputs": [
    {
     "name": "stdout",
     "output_type": "stream",
     "text": [
      "61.85697399527187\n",
      "1    1065\n",
      "0     635\n",
      "Name: SEX, dtype: int64\n"
     ]
    },
    {
     "data": {
      "text/plain": [
       "Text(0.5, 1.0, 'Κατανομή παρατηρήσεων κατά φύλο')"
      ]
     },
     "execution_count": 19,
     "metadata": {},
     "output_type": "execute_result"
    },
    {
     "data": {
      "image/png": "[encoded data removed]",
      "text/plain": [
       "<Figure size 432x288 with 1 Axes>"
      ]
     },
     "metadata": {},
     "output_type": "display_data"
    }
   ],
   "source": [
    "print(mic_df[\"AGE\"].mean())\n",
    "print(mic_df[\"SEX\"].value_counts())\n",
    "plt.pie(mic_df[\"SEX\"].value_counts(),labels=[\"Άντρες\",\"Γυναίκες\"], autopct='%1.1f%%')\n",
    "plt.title('Κατανομή παρατηρήσεων κατά φύλο')"
   ]
  },
  {
   "cell_type": "code",
   "execution_count": null,
   "metadata": {},
   "outputs": [],
   "source": [
    "target_variable=\"LET_IS\"\n",
    "scenario=5\n",
    "to_drop_list3=[\"R_AB_3_n\",\"NA_R_3_n\",\"NOT_NA_3_n\"]\n",
    "to_drop_list2=[\"R_AB_2_n\",\"NA_R_2_n\",\"NOT_NA_2_n\"]\n",
    "to_drop_list1=[\"R_AB_1_n\",\"NA_R_1_n\",\"NOT_NA_1_n\"]\n",
    "to_drop_list2.extend(to_drop_list3)\n",
    "to_drop_list1.extend(to_drop_list2)\n"
   ]
  },
  {
   "cell_type": "code",
   "execution_count": null,
   "metadata": {},
   "outputs": [
    {
     "data": {
      "text/html": [
       "<div>\n",
       "<style scoped>\n",
       "    .dataframe tbody tr th:only-of-type {\n",
       "        vertical-align: middle;\n",
       "    }\n",
       "\n",
       "    .dataframe tbody tr th {\n",
       "        vertical-align: top;\n",
       "    }\n",
       "\n",
       "    .dataframe thead th {\n",
       "        text-align: right;\n",
       "    }\n",
       "</style>\n",
       "<table border=\"1\" class=\"dataframe\">\n",
       "  <thead>\n",
       "    <tr style=\"text-align: right;\">\n",
       "      <th></th>\n",
       "      <th>AGE</th>\n",
       "      <th>SEX</th>\n",
       "      <th>INF_ANAM</th>\n",
       "      <th>STENOK_AN</th>\n",
       "      <th>FK_STENOK</th>\n",
       "      <th>IBS_POST</th>\n",
       "      <th>GB</th>\n",
       "      <th>SIM_GIPERT</th>\n",
       "      <th>DLIT_AG</th>\n",
       "      <th>ZSN_A</th>\n",
       "      <th>...</th>\n",
       "      <th>PREDS_TAH</th>\n",
       "      <th>JELUD_TAH</th>\n",
       "      <th>FIBR_JELUD</th>\n",
       "      <th>A_V_BLOK</th>\n",
       "      <th>OTEK_LANC</th>\n",
       "      <th>RAZRIV</th>\n",
       "      <th>DRESSLER</th>\n",
       "      <th>ZSN</th>\n",
       "      <th>REC_IM</th>\n",
       "      <th>P_IM_STEN</th>\n",
       "    </tr>\n",
       "  </thead>\n",
       "  <tbody>\n",
       "    <tr>\n",
       "      <th>0</th>\n",
       "      <td>77.0</td>\n",
       "      <td>1</td>\n",
       "      <td>2.0</td>\n",
       "      <td>1.0</td>\n",
       "      <td>1.0</td>\n",
       "      <td>2.0</td>\n",
       "      <td>3.0</td>\n",
       "      <td>0.0</td>\n",
       "      <td>7.0</td>\n",
       "      <td>0.0</td>\n",
       "      <td>...</td>\n",
       "      <td>0</td>\n",
       "      <td>0</td>\n",
       "      <td>0</td>\n",
       "      <td>0</td>\n",
       "      <td>0</td>\n",
       "      <td>0</td>\n",
       "      <td>0</td>\n",
       "      <td>0</td>\n",
       "      <td>0</td>\n",
       "      <td>0</td>\n",
       "    </tr>\n",
       "    <tr>\n",
       "      <th>1</th>\n",
       "      <td>55.0</td>\n",
       "      <td>1</td>\n",
       "      <td>1.0</td>\n",
       "      <td>0.0</td>\n",
       "      <td>0.0</td>\n",
       "      <td>0.0</td>\n",
       "      <td>0.0</td>\n",
       "      <td>0.0</td>\n",
       "      <td>0.0</td>\n",
       "      <td>0.0</td>\n",
       "      <td>...</td>\n",
       "      <td>0</td>\n",
       "      <td>0</td>\n",
       "      <td>0</td>\n",
       "      <td>0</td>\n",
       "      <td>0</td>\n",
       "      <td>0</td>\n",
       "      <td>0</td>\n",
       "      <td>0</td>\n",
       "      <td>0</td>\n",
       "      <td>0</td>\n",
       "    </tr>\n",
       "    <tr>\n",
       "      <th>2</th>\n",
       "      <td>52.0</td>\n",
       "      <td>1</td>\n",
       "      <td>0.0</td>\n",
       "      <td>0.0</td>\n",
       "      <td>0.0</td>\n",
       "      <td>2.0</td>\n",
       "      <td>2.0</td>\n",
       "      <td>0.0</td>\n",
       "      <td>2.0</td>\n",
       "      <td>0.0</td>\n",
       "      <td>...</td>\n",
       "      <td>0</td>\n",
       "      <td>0</td>\n",
       "      <td>0</td>\n",
       "      <td>0</td>\n",
       "      <td>0</td>\n",
       "      <td>0</td>\n",
       "      <td>0</td>\n",
       "      <td>0</td>\n",
       "      <td>0</td>\n",
       "      <td>0</td>\n",
       "    </tr>\n",
       "    <tr>\n",
       "      <th>3</th>\n",
       "      <td>68.0</td>\n",
       "      <td>0</td>\n",
       "      <td>0.0</td>\n",
       "      <td>0.0</td>\n",
       "      <td>0.0</td>\n",
       "      <td>2.0</td>\n",
       "      <td>2.0</td>\n",
       "      <td>0.0</td>\n",
       "      <td>3.0</td>\n",
       "      <td>1.0</td>\n",
       "      <td>...</td>\n",
       "      <td>0</td>\n",
       "      <td>0</td>\n",
       "      <td>0</td>\n",
       "      <td>0</td>\n",
       "      <td>0</td>\n",
       "      <td>0</td>\n",
       "      <td>0</td>\n",
       "      <td>1</td>\n",
       "      <td>0</td>\n",
       "      <td>0</td>\n",
       "    </tr>\n",
       "    <tr>\n",
       "      <th>4</th>\n",
       "      <td>60.0</td>\n",
       "      <td>1</td>\n",
       "      <td>0.0</td>\n",
       "      <td>0.0</td>\n",
       "      <td>0.0</td>\n",
       "      <td>2.0</td>\n",
       "      <td>3.0</td>\n",
       "      <td>0.0</td>\n",
       "      <td>7.0</td>\n",
       "      <td>0.0</td>\n",
       "      <td>...</td>\n",
       "      <td>0</td>\n",
       "      <td>0</td>\n",
       "      <td>0</td>\n",
       "      <td>0</td>\n",
       "      <td>0</td>\n",
       "      <td>0</td>\n",
       "      <td>0</td>\n",
       "      <td>0</td>\n",
       "      <td>0</td>\n",
       "      <td>0</td>\n",
       "    </tr>\n",
       "    <tr>\n",
       "      <th>...</th>\n",
       "      <td>...</td>\n",
       "      <td>...</td>\n",
       "      <td>...</td>\n",
       "      <td>...</td>\n",
       "      <td>...</td>\n",
       "      <td>...</td>\n",
       "      <td>...</td>\n",
       "      <td>...</td>\n",
       "      <td>...</td>\n",
       "      <td>...</td>\n",
       "      <td>...</td>\n",
       "      <td>...</td>\n",
       "      <td>...</td>\n",
       "      <td>...</td>\n",
       "      <td>...</td>\n",
       "      <td>...</td>\n",
       "      <td>...</td>\n",
       "      <td>...</td>\n",
       "      <td>...</td>\n",
       "      <td>...</td>\n",
       "      <td>...</td>\n",
       "    </tr>\n",
       "    <tr>\n",
       "      <th>1695</th>\n",
       "      <td>77.0</td>\n",
       "      <td>0</td>\n",
       "      <td>0.0</td>\n",
       "      <td>4.0</td>\n",
       "      <td>2.0</td>\n",
       "      <td>1.0</td>\n",
       "      <td>2.0</td>\n",
       "      <td>0.0</td>\n",
       "      <td>7.0</td>\n",
       "      <td>0.0</td>\n",
       "      <td>...</td>\n",
       "      <td>0</td>\n",
       "      <td>0</td>\n",
       "      <td>0</td>\n",
       "      <td>1</td>\n",
       "      <td>0</td>\n",
       "      <td>1</td>\n",
       "      <td>0</td>\n",
       "      <td>0</td>\n",
       "      <td>0</td>\n",
       "      <td>0</td>\n",
       "    </tr>\n",
       "    <tr>\n",
       "      <th>1696</th>\n",
       "      <td>70.0</td>\n",
       "      <td>0</td>\n",
       "      <td>0.0</td>\n",
       "      <td>6.0</td>\n",
       "      <td>2.0</td>\n",
       "      <td>1.0</td>\n",
       "      <td>2.0</td>\n",
       "      <td>0.0</td>\n",
       "      <td>7.0</td>\n",
       "      <td>0.0</td>\n",
       "      <td>...</td>\n",
       "      <td>0</td>\n",
       "      <td>0</td>\n",
       "      <td>0</td>\n",
       "      <td>0</td>\n",
       "      <td>0</td>\n",
       "      <td>0</td>\n",
       "      <td>0</td>\n",
       "      <td>0</td>\n",
       "      <td>0</td>\n",
       "      <td>0</td>\n",
       "    </tr>\n",
       "    <tr>\n",
       "      <th>1697</th>\n",
       "      <td>55.0</td>\n",
       "      <td>1</td>\n",
       "      <td>3.0</td>\n",
       "      <td>6.0</td>\n",
       "      <td>2.0</td>\n",
       "      <td>2.0</td>\n",
       "      <td>0.0</td>\n",
       "      <td>0.0</td>\n",
       "      <td>0.0</td>\n",
       "      <td>0.0</td>\n",
       "      <td>...</td>\n",
       "      <td>0</td>\n",
       "      <td>0</td>\n",
       "      <td>0</td>\n",
       "      <td>0</td>\n",
       "      <td>0</td>\n",
       "      <td>0</td>\n",
       "      <td>0</td>\n",
       "      <td>0</td>\n",
       "      <td>1</td>\n",
       "      <td>0</td>\n",
       "    </tr>\n",
       "    <tr>\n",
       "      <th>1698</th>\n",
       "      <td>79.0</td>\n",
       "      <td>0</td>\n",
       "      <td>2.0</td>\n",
       "      <td>2.0</td>\n",
       "      <td>2.0</td>\n",
       "      <td>1.0</td>\n",
       "      <td>2.0</td>\n",
       "      <td>0.0</td>\n",
       "      <td>7.0</td>\n",
       "      <td>0.0</td>\n",
       "      <td>...</td>\n",
       "      <td>0</td>\n",
       "      <td>0</td>\n",
       "      <td>0</td>\n",
       "      <td>0</td>\n",
       "      <td>1</td>\n",
       "      <td>0</td>\n",
       "      <td>0</td>\n",
       "      <td>0</td>\n",
       "      <td>0</td>\n",
       "      <td>0</td>\n",
       "    </tr>\n",
       "    <tr>\n",
       "      <th>1699</th>\n",
       "      <td>63.0</td>\n",
       "      <td>1</td>\n",
       "      <td>2.0</td>\n",
       "      <td>0.0</td>\n",
       "      <td>2.0</td>\n",
       "      <td>2.0</td>\n",
       "      <td>2.0</td>\n",
       "      <td>0.0</td>\n",
       "      <td>0.0</td>\n",
       "      <td>4.0</td>\n",
       "      <td>...</td>\n",
       "      <td>0</td>\n",
       "      <td>0</td>\n",
       "      <td>0</td>\n",
       "      <td>0</td>\n",
       "      <td>0</td>\n",
       "      <td>0</td>\n",
       "      <td>0</td>\n",
       "      <td>0</td>\n",
       "      <td>0</td>\n",
       "      <td>0</td>\n",
       "    </tr>\n",
       "  </tbody>\n",
       "</table>\n",
       "<p>1700 rows × 118 columns</p>\n",
       "</div>"
      ],
      "text/plain": [
       "       AGE  SEX  INF_ANAM  STENOK_AN  FK_STENOK  IBS_POST   GB  SIM_GIPERT  \\\n",
       "0     77.0    1       2.0        1.0        1.0       2.0  3.0         0.0   \n",
       "1     55.0    1       1.0        0.0        0.0       0.0  0.0         0.0   \n",
       "2     52.0    1       0.0        0.0        0.0       2.0  2.0         0.0   \n",
       "3     68.0    0       0.0        0.0        0.0       2.0  2.0         0.0   \n",
       "4     60.0    1       0.0        0.0        0.0       2.0  3.0         0.0   \n",
       "...    ...  ...       ...        ...        ...       ...  ...         ...   \n",
       "1695  77.0    0       0.0        4.0        2.0       1.0  2.0         0.0   \n",
       "1696  70.0    0       0.0        6.0        2.0       1.0  2.0         0.0   \n",
       "1697  55.0    1       3.0        6.0        2.0       2.0  0.0         0.0   \n",
       "1698  79.0    0       2.0        2.0        2.0       1.0  2.0         0.0   \n",
       "1699  63.0    1       2.0        0.0        2.0       2.0  2.0         0.0   \n",
       "\n",
       "      DLIT_AG  ZSN_A  ...  PREDS_TAH  JELUD_TAH  FIBR_JELUD  A_V_BLOK  \\\n",
       "0         7.0    0.0  ...          0          0           0         0   \n",
       "1         0.0    0.0  ...          0          0           0         0   \n",
       "2         2.0    0.0  ...          0          0           0         0   \n",
       "3         3.0    1.0  ...          0          0           0         0   \n",
       "4         7.0    0.0  ...          0          0           0         0   \n",
       "...       ...    ...  ...        ...        ...         ...       ...   \n",
       "1695      7.0    0.0  ...          0          0           0         1   \n",
       "1696      7.0    0.0  ...          0          0           0         0   \n",
       "1697      0.0    0.0  ...          0          0           0         0   \n",
       "1698      7.0    0.0  ...          0          0           0         0   \n",
       "1699      0.0    4.0  ...          0          0           0         0   \n",
       "\n",
       "      OTEK_LANC  RAZRIV  DRESSLER  ZSN  REC_IM  P_IM_STEN  \n",
       "0             0       0         0    0       0          0  \n",
       "1             0       0         0    0       0          0  \n",
       "2             0       0         0    0       0          0  \n",
       "3             0       0         0    1       0          0  \n",
       "4             0       0         0    0       0          0  \n",
       "...         ...     ...       ...  ...     ...        ...  \n",
       "1695          0       1         0    0       0          0  \n",
       "1696          0       0         0    0       0          0  \n",
       "1697          0       0         0    0       1          0  \n",
       "1698          1       0         0    0       0          0  \n",
       "1699          0       0         0    0       0          0  \n",
       "\n",
       "[1700 rows x 118 columns]"
      ]
     },
     "execution_count": 21,
     "metadata": {},
     "output_type": "execute_result"
    }
   ],
   "source": [
    "df2.loc[df2.LET_IS!=0,'LET_IS']=1 #To LET_IS einai multiclass. Ayti i grammi to kanei binary 0=zisane. 1=pethanane\n",
    "y=df2[target_variable]\n",
    "if scenario==5:\n",
    "    x = df2.drop([target_variable], axis=1)\n",
    "elif scenario==4:\n",
    "    x = df2.loc[: ,\"AGE\":\"TRENT_S_n\"]\n",
    "elif scenario==3:\n",
    "    df3 = df2.loc[: ,\"AGE\":\"TRENT_S_n\"]\n",
    "    x = df3.drop(to_drop_list3, axis=1)\n",
    "elif scenario==2:\n",
    "    df3 =  df2.loc[: ,\"AGE\":\"TRENT_S_n\"]\n",
    "    x = df3.drop(to_drop_list2, axis=1)\n",
    "elif scenario==1:\n",
    "    df3 = df2.loc[: ,\"AGE\":\"TRENT_S_n\"]\n",
    "    x = df3.drop(to_drop_list1, axis=1)\n",
    "x\n"
   ]
  },
  {
   "cell_type": "markdown",
   "metadata": {},
   "source": [
    "#DROP COLUMNS WHICH CONTAIN THE SAME VALUE OVER 95% OF TIME"
   ]
  },
  {
   "cell_type": "code",
   "execution_count": null,
   "metadata": {},
   "outputs": [
    {
     "data": {
      "text/plain": [
       "array([[77.,  1.,  2., ...,  0.,  0.,  0.],\n",
       "       [55.,  1.,  1., ...,  0.,  0.,  0.],\n",
       "       [52.,  1.,  0., ...,  0.,  0.,  0.],\n",
       "       ...,\n",
       "       [55.,  1.,  3., ...,  0.,  1.,  0.],\n",
       "       [79.,  0.,  2., ...,  0.,  0.,  0.],\n",
       "       [63.,  1.,  2., ...,  0.,  0.,  0.]])"
      ]
     },
     "execution_count": 14,
     "metadata": {},
     "output_type": "execute_result"
    }
   ],
   "source": [
    "'''lst2=[]\n",
    "#df3 = df2.loc[: ,\"AGE\":\"TRENT_S_n\"]\n",
    "#if scenario!=5\n",
    "for column in x:\n",
    "    if len(x[column].unique())==2:\n",
    "        if x[column].value_counts().iloc[0]>len(x.index)*0.95 or x[column].value_counts().iloc[0]<len(x.index)*0.05:\n",
    "            #print(df2[column].value_counts())\n",
    "            lst2.append(column)\n",
    "#print(lst2)     \n",
    "x=x.drop(lst2, axis=1)\n",
    "print(len(lst2))      \n",
    "#print(x.shape)'''\n",
    "'''2ος τροπος\n",
    "from sklearn.feature_selection import VarianceThreshold\n",
    "selector = VarianceThreshold()\n",
    "selector.fit_transform(x)'''\n"
   ]
  },
  {
   "cell_type": "code",
   "execution_count": null,
   "metadata": {},
   "outputs": [
    {
     "data": {
      "image/png": "[encoded data removed]",
      "text/plain": [
       "<Figure size 432x288 with 1 Axes>"
      ]
     },
     "metadata": {
      "needs_background": "light"
     },
     "output_type": "display_data"
    },
    {
     "data": {
      "text/plain": [
       "Text(0, 0.5, 'Cumulative Explained Variance')"
      ]
     },
     "execution_count": 11,
     "metadata": {},
     "output_type": "execute_result"
    },
    {
     "data": {
      "image/png": "[encoded data removed]",
      "text/plain": [
       "<Figure size 720x576 with 1 Axes>"
      ]
     },
     "metadata": {
      "needs_background": "light"
     },
     "output_type": "display_data"
    }
   ],
   "source": [
    "#YPODEIGMA KWDIKA PROKEIMENOY NA DW TI GINETAI GENIKA ME PCA. AFOY DW APO DW TI GINETAI GENIKA, PAW META KAI TIN EFARMOZW DIALEGONTAS POSA PRINCIPAL COMPONENTS THELW.\n",
    "#AYTOS O KWDIKAS ME EKSAIRESI TIN PRWTI GRAMMI EINAI IDIOS GIA KATHE FORA POY THELW NA EFARMOSW PCA\n",
    "#(EFARMOGI STO PARAKATW KELI)\n",
    "scaled_data = preprocessing.scale(x) #PCA EFARMOZW PANTA SE NORMALIZED DATASET. NORMALIZED KAI OXI STANDARDIZED!\n",
    "pca = PCA() # create a PCA object\n",
    "pca.fit(scaled_data) # do the math\n",
    "pca_data = pca.transform(scaled_data)\n",
    "\n",
    "\n",
    "#Ο παρακατω κωδικα μας δινει barchart με το ποσοστο διακυμανσης ανα principal component \n",
    "per_var = np.round(pca.explained_variance_ratio_* 100, decimals=1)\n",
    "labels = ['PC' + str(x) for x in range(1, len(per_var)+1)]\n",
    "plt.bar(x=range(1,len(per_var)+1), height=per_var, tick_label=labels)\n",
    "plt.ylabel('Percentage of Explained Variance')\n",
    "plt.xlabel('Principal Component')\n",
    "plt.title('Scree Plot')\n",
    "plt.show()\n",
    "\n",
    "\n",
    "#Ο παρακατω κωδικα μας δινει αθροιστικη διακυμανση ανα πληθος principal components\n",
    "plt.figure( figsize = (10,8))\n",
    "plt.plot(range(1,len(pca.explained_variance_ratio_) + 1), pca.explained_variance_ratio_.cumsum(), marker = 'o', linestyle = '--', alpha=0.4)\n",
    "plt.title(\"Explained Variance by Components\")\n",
    "plt.xlabel(\"Number of Components\")\n",
    "plt.ylabel(\"Cumulative Explained Variance\")"
   ]
  },
  {
   "cell_type": "markdown",
   "metadata": {},
   "source": [
    "Correlations"
   ]
  },
  {
   "cell_type": "code",
   "execution_count": null,
   "metadata": {},
   "outputs": [],
   "source": [
    "#EFARMOGI THS PCA!!!\n",
    "pca = PCA(n_components=35)\n",
    "X = pca.fit_transform(scaled_data)#PCA EFARMOZOYME SE OLO TO DATASET EKTOS APO TO TARGET VARIABLE!"
   ]
  },
  {
   "cell_type": "code",
   "execution_count": null,
   "metadata": {},
   "outputs": [
    {
     "data": {
      "text/plain": [
       "LET_IS    1.0\n",
       "Name: LET_IS, dtype: float64"
      ]
     },
     "execution_count": 13,
     "metadata": {},
     "output_type": "execute_result"
    }
   ],
   "source": [
    "cor=df2.corr()\n",
    "cor_target = abs(cor[target_variable])\n",
    "relevant_features = cor_target[cor_target>0.5]\n",
    "relevant_features\n",
    "#No high correlation between features and target variable"
   ]
  },
  {
   "cell_type": "markdown",
   "metadata": {},
   "source": [
    "target variable examination"
   ]
  },
  {
   "cell_type": "code",
   "execution_count": null,
   "metadata": {},
   "outputs": [
    {
     "name": "stdout",
     "output_type": "stream",
     "text": [
      "0    1429\n",
      "1     271\n",
      "Name: LET_IS, dtype: int64\n"
     ]
    },
    {
     "data": {
      "text/plain": [
       "Text(0.5, 1.0, 'Κατανομή θανάτων')"
      ]
     },
     "execution_count": 14,
     "metadata": {},
     "output_type": "execute_result"
    },
    {
     "data": {
      "image/png": "[encoded data removed]",
      "text/plain": [
       "<Figure size 432x288 with 1 Axes>"
      ]
     },
     "metadata": {},
     "output_type": "display_data"
    }
   ],
   "source": [
    "print(df2[target_variable].value_counts())\n",
    "#class is imbalanced!!!\n",
    "plt.pie(df2[\"LET_IS\"].value_counts(),labels=[\"N\",\"Y\"], autopct='%1.1f%%')\n",
    "plt.title('Κατανομή θανάτων')"
   ]
  },
  {
   "cell_type": "code",
   "execution_count": null,
   "metadata": {},
   "outputs": [],
   "source": [
    "\n",
    "X_train, X_test, y_train, y_test = train_test_split(x, y, test_size=0.2, random_state=42,stratify=y)\n"
   ]
  },
  {
   "cell_type": "code",
   "execution_count": null,
   "metadata": {},
   "outputs": [],
   "source": [
    "X_train_norm=X_train.copy()\n",
    "X_test_norm=X_test.copy()\n",
    "for c in lst:\n",
    "    norm=MinMaxScaler().fit(X_train_norm[[c]])    \n",
    "    X_train_norm[c]=norm.transform(X_train_norm[[c]])\n",
    "    X_test_norm[c]=norm.transform(X_test_norm[[c]])\n",
    "#X_train_norm[\"AGE\"]    "
   ]
  },
  {
   "cell_type": "code",
   "execution_count": null,
   "metadata": {},
   "outputs": [
    {
     "name": "stderr",
     "output_type": "stream",
     "text": [
      "C:\\Users\\mixalis\\AppData\\Local\\Programs\\Python\\Python39\\lib\\site-packages\\sklearn\\feature_selection\\_univariate_selection.py:112: UserWarning: Features [50] are constant.\n",
      "  warnings.warn(\"Features %s are constant.\" % constant_features_idx, UserWarning)\n",
      "C:\\Users\\mixalis\\AppData\\Local\\Programs\\Python\\Python39\\lib\\site-packages\\sklearn\\feature_selection\\_univariate_selection.py:113: RuntimeWarning: invalid value encountered in true_divide\n",
      "  f = msb / msw\n"
     ]
    }
   ],
   "source": [
    "fs = SelectKBest(k=30)\n",
    "fs.fit(X_train, y_train)\n",
    "X_train_fs = fs.transform(X_train)\n",
    "X_test_fs = fs.transform(X_test)\n"
   ]
  },
  {
   "cell_type": "code",
   "execution_count": null,
   "metadata": {},
   "outputs": [],
   "source": [
    "classifiers = [\n",
    "    {\n",
    "        \"name\": \"SVM\",\n",
    "        \"classifier\": SVC(kernel='linear',C=0.1,probability=True)\n",
    "    },\n",
    "    {\n",
    "        \"name\": \"Random Forest\",\n",
    "        \"classifier\": RandomForestClassifier(max_depth=7, random_state=1234,class_weight='balanced')\n",
    "    },\n",
    "    {\n",
    "        \"name\": \"Decision Tree\",\n",
    "        \"classifier\": DecisionTreeClassifier(max_depth=7,random_state=1234,max_leaf_nodes=5)\n",
    "    },\n",
    "    {\n",
    "        \"name\": \"Logistic Regression\",\n",
    "        \"classifier\": LogisticRegression(penalty='l1',solver='liblinear',random_state=1234,max_iter=10000,C=0.25)\n",
    "    },\n",
    "    {\n",
    "        \"name\": \"KNN\",\n",
    "        \"classifier\": KNeighborsClassifier(n_neighbors=12,weights='distance',algorithm='brute')\n",
    "    },\n",
    "    {\n",
    "        \"name\": \"AdaBoost\",\n",
    "        \"classifier\": AdaBoostClassifier(n_estimators=300, random_state=1234)\n",
    "    },\n",
    "    {\n",
    "        \"name\": \"Gradient Boosting\",\n",
    "        \"classifier\": GradientBoostingClassifier(n_estimators=200, learning_rate=1, random_state=1234)\n",
    "    },\n",
    "    {\n",
    "        \"name\": \"XGboost\",\n",
    "        \"classifier\": XGBClassifier(scale_pos_weight=10,use_label_encoder=False)\n",
    "    },\n",
    "    {\n",
    "        \"name\": \"LDA\",\n",
    "        \"classifier\": LinearDiscriminantAnalysis()\n",
    "    }\n",
    "    ] "
   ]
  },
  {
   "cell_type": "code",
   "execution_count": null,
   "metadata": {},
   "outputs": [
    {
     "name": "stdout",
     "output_type": "stream",
     "text": [
      "classification report for SVM\n",
      "\n",
      "              precision    recall  f1-score   support\n",
      "\n",
      "           0       0.91      0.97      0.94       286\n",
      "           1       0.76      0.46      0.57        54\n",
      "\n",
      "    accuracy                           0.89       340\n",
      "   macro avg       0.83      0.72      0.76       340\n",
      "weighted avg       0.88      0.89      0.88       340\n",
      "\n",
      "AUC=0.703\n",
      "classification report for Random Forest\n",
      "\n",
      "              precision    recall  f1-score   support\n",
      "\n",
      "           0       0.92      0.96      0.94       286\n",
      "           1       0.74      0.57      0.65        54\n",
      "\n",
      "    accuracy                           0.90       340\n",
      "   macro avg       0.83      0.77      0.79       340\n",
      "weighted avg       0.89      0.90      0.89       340\n",
      "\n",
      "AUC=0.749\n",
      "classification report for Decision Tree\n",
      "\n",
      "              precision    recall  f1-score   support\n",
      "\n",
      "           0       0.89      1.00      0.94       286\n",
      "           1       0.94      0.31      0.47        54\n",
      "\n",
      "    accuracy                           0.89       340\n",
      "   macro avg       0.91      0.66      0.70       340\n",
      "weighted avg       0.89      0.89      0.86       340\n",
      "\n",
      "AUC=0.580\n",
      "classification report for Logistic Regression\n",
      "\n",
      "              precision    recall  f1-score   support\n",
      "\n",
      "           0       0.90      0.97      0.93       286\n",
      "           1       0.73      0.44      0.55        54\n",
      "\n",
      "    accuracy                           0.89       340\n",
      "   macro avg       0.81      0.71      0.74       340\n",
      "weighted avg       0.87      0.89      0.87       340\n",
      "\n",
      "AUC=0.727\n",
      "classification report for KNN\n",
      "\n",
      "              precision    recall  f1-score   support\n",
      "\n",
      "           0       0.87      0.98      0.92       286\n",
      "           1       0.67      0.22      0.33        54\n",
      "\n",
      "    accuracy                           0.86       340\n",
      "   macro avg       0.77      0.60      0.63       340\n",
      "weighted avg       0.84      0.86      0.83       340\n",
      "\n",
      "AUC=0.443\n"
     ]
    },
    {
     "name": "stderr",
     "output_type": "stream",
     "text": [
      "C:\\Users\\mixalis\\AppData\\Local\\Programs\\Python\\Python39\\lib\\site-packages\\sklearn\\base.py:441: UserWarning: X does not have valid feature names, but KNeighborsClassifier was fitted with feature names\n",
      "  warnings.warn(\n",
      "C:\\Users\\mixalis\\AppData\\Local\\Programs\\Python\\Python39\\lib\\site-packages\\sklearn\\base.py:441: UserWarning: X does not have valid feature names, but KNeighborsClassifier was fitted with feature names\n",
      "  warnings.warn(\n",
      "C:\\Users\\mixalis\\AppData\\Local\\Programs\\Python\\Python39\\lib\\site-packages\\sklearn\\base.py:441: UserWarning: X does not have valid feature names, but AdaBoostClassifier was fitted with feature names\n",
      "  warnings.warn(\n",
      "C:\\Users\\mixalis\\AppData\\Local\\Programs\\Python\\Python39\\lib\\site-packages\\sklearn\\base.py:441: UserWarning: X does not have valid feature names, but AdaBoostClassifier was fitted with feature names\n",
      "  warnings.warn(\n"
     ]
    },
    {
     "name": "stdout",
     "output_type": "stream",
     "text": [
      "classification report for AdaBoost\n",
      "\n",
      "              precision    recall  f1-score   support\n",
      "\n",
      "           0       0.93      0.95      0.94       286\n",
      "           1       0.70      0.65      0.67        54\n",
      "\n",
      "    accuracy                           0.90       340\n",
      "   macro avg       0.82      0.80      0.81       340\n",
      "weighted avg       0.90      0.90      0.90       340\n",
      "\n",
      "AUC=0.723\n",
      "classification report for Gradient Boosting\n",
      "\n",
      "              precision    recall  f1-score   support\n",
      "\n",
      "           0       0.94      0.93      0.93       286\n",
      "           1       0.63      0.67      0.65        54\n",
      "\n",
      "    accuracy                           0.89       340\n",
      "   macro avg       0.78      0.80      0.79       340\n",
      "weighted avg       0.89      0.89      0.89       340\n",
      "\n",
      "AUC=0.700\n",
      "[19:51:42] WARNING: C:/Users/Administrator/workspace/xgboost-win64_release_1.5.1/src/learner.cc:1115: Starting in XGBoost 1.3.0, the default evaluation metric used with the objective 'binary:logistic' was changed from 'error' to 'logloss'. Explicitly set eval_metric if you'd like to restore the old behavior.\n",
      "classification report for XGboost\n",
      "\n",
      "              precision    recall  f1-score   support\n",
      "\n",
      "           0       0.94      0.97      0.95       286\n",
      "           1       0.80      0.67      0.73        54\n",
      "\n",
      "    accuracy                           0.92       340\n",
      "   macro avg       0.87      0.82      0.84       340\n",
      "weighted avg       0.92      0.92      0.92       340\n",
      "\n",
      "AUC=0.792\n",
      "classification report for LDA\n",
      "\n",
      "              precision    recall  f1-score   support\n",
      "\n",
      "           0       0.90      0.98      0.94       286\n",
      "           1       0.79      0.41      0.54        54\n",
      "\n",
      "    accuracy                           0.89       340\n",
      "   macro avg       0.84      0.69      0.74       340\n",
      "weighted avg       0.88      0.89      0.87       340\n",
      "\n",
      "AUC=0.702\n"
     ]
    },
    {
     "data": {
      "image/png": "[encoded data removed]",
      "text/plain": [
       "<Figure size 720x432 with 1 Axes>"
      ]
     },
     "metadata": {
      "needs_background": "light"
     },
     "output_type": "display_data"
    },
    {
     "data": {
      "image/png": "[encoded data removed]",
      "text/plain": [
       "<Figure size 720x432 with 1 Axes>"
      ]
     },
     "metadata": {
      "needs_background": "light"
     },
     "output_type": "display_data"
    }
   ],
   "source": [
    "#Object oriented tropos gia na ftiakseis plot. Den einai kamia filisofia. Oi 2 parakatw grammes einai auto pou ginetai sto background otan les plt.plot\n",
    "#Diladi arxika dimioyrgeitai ena object tupou figure kai meta tou dinontai diastaseis(Tis pairnei default an den tis orisoume). O katwthi sxoliasmenos kwdika kanei akrivws \n",
    "#ta idia pramata\n",
    "'''plt.xlim([0.0, 1.0])\n",
    "plt.ylim([0.0, 1.0])\n",
    "plt.title('ROC curve for diabetes classifier')\n",
    "plt.xlabel('False Positive Rate (1 - Specificity)')\n",
    "plt.ylabel('True Positive Rate (Sensitivity)')\n",
    "plt.grid(True)'''\n",
    "fig = plt.figure(figsize=(10,6))  # a new figure window\n",
    "ax = fig.add_subplot(1, 1, 1)\n",
    "ax.set_title('ROC curve')\n",
    "ax.set_xlabel('False Positive Rate (1 - Specificity)')\n",
    "ax.set_ylabel('True Positive Rate (Sensitivity)')\n",
    "ax.grid(True)\n",
    "\n",
    "\n",
    "fig2 = plt.figure(figsize=(10,6))\n",
    "ax2 = fig2.add_subplot(1, 1, 1)\n",
    "ax2.set_title('Precision-Recall curve')\n",
    "ax2.set_xlabel('Recall')\n",
    "ax2.set_ylabel('Precision')\n",
    "\n",
    "\n",
    "for c in classifiers:\n",
    "    clf=c[\"classifier\"]\n",
    "    clf.fit(X_train, y_train)\n",
    "    y_pred = clf.predict(X_test)\n",
    "    y_true=y_test\n",
    "    print(\"classification report for {}\\n\".format(c[\"name\"]))\n",
    "    print(classification_report(y_test,y_pred))\n",
    "\n",
    "    yhat = clf.predict_proba(X_test)\n",
    "# keep probabilities for the positive outcome only\n",
    "    yhat = yhat[:, 1]\n",
    "\n",
    "#plot roc curve\n",
    "    fpr, tpr, thresholds = metrics.roc_curve(y_test, yhat)\n",
    "    ax.plot(fpr, tpr,label=c[\"name\"]+\", AUC=%.3f\" % auc(fpr, tpr))\n",
    "    ax.legend()\n",
    "\n",
    "#plot precision-recall curve\n",
    "    precision, recall, thresholds = precision_recall_curve(y_test, yhat)\n",
    "    ax2.plot(recall, precision, marker='.', label=c[\"name\"]+\", AUC=%.3f\" % auc(recall, precision))\n",
    "    ax2.legend()\n",
    "\n",
    "#finally print Area Under the Curve of each precision-recall curve\n",
    "    print(\"AUC=%.3f\" % auc(recall, precision))        "
   ]
  },
  {
   "cell_type": "code",
   "execution_count": null,
   "metadata": {},
   "outputs": [
    {
     "name": "stdout",
     "output_type": "stream",
     "text": [
      "Threshold=0.490, F-measure=0.71429\n"
     ]
    }
   ],
   "source": [
    "def to_labels(pos_probs, threshold):\n",
    "    return (pos_probs >= threshold).astype('int')\n",
    "model = RandomForestClassifier(max_depth=7, random_state=1234,class_weight='balanced')\n",
    "    \n",
    "model.fit(X_train, y_train)\n",
    "# predict probabilities\n",
    "yhat = model.predict_proba(X_test)\n",
    "# keep probabilities for the positive outcome only\n",
    "probs = yhat[:, 1]\n",
    "# define thresholds\n",
    "thresholds = np.arange(0, 1, 0.001)    \n",
    "scores = [f1_score(y_test, to_labels(probs, t)) for t in thresholds]\n",
    "# get best threshold\n",
    "ix = np.argmax(scores)\n",
    "print('Threshold=%.3f, F-measure=%.5f' % (thresholds[ix], scores[ix]))"
   ]
  },
  {
   "cell_type": "code",
   "execution_count": null,
   "metadata": {},
   "outputs": [
    {
     "data": {
      "image/png": "[encoded data removed]",
      "text/plain": [
       "<Figure size 432x288 with 1 Axes>"
      ]
     },
     "metadata": {
      "needs_background": "light"
     },
     "output_type": "display_data"
    }
   ],
   "source": [
    "fpr, tpr, thresholds = metrics.roc_curve(y_test, y_pred)\n",
    "plt.plot(fpr, tpr)\n",
    "plt.xlim([0.0, 1.0])\n",
    "plt.ylim([0.0, 1.0])\n",
    "plt.title('ROC curve for diabetes classifier')\n",
    "plt.xlabel('False Positive Rate (1 - Specificity)')\n",
    "plt.ylabel('True Positive Rate (Sensitivity)')\n",
    "plt.grid(True)"
   ]
  },
  {
   "cell_type": "markdown",
   "metadata": {},
   "source": [
    "GRID SEARCH -CLASS WEIGHTS-"
   ]
  },
  {
   "cell_type": "code",
   "execution_count": null,
   "metadata": {},
   "outputs": [],
   "source": [
    "#ΣΟΥ ΑΦΗΝΩ ΤΑ PARAMETERS NA TA ΒΛΕΠΕΙΣ ΠΡΟΚΕΙΜΕΝΟΥ ΝΑ ΤΑ ΠΕΤΑΞΕΙΣ ΜΕΣΑ ΣΤΑ PARAM_GRIDS ΣΤΑ ΠΑΡΑΚΑΤΩ ΚΕΛΙΑ\n",
    "classifiers = [\n",
    "    {\n",
    "        \"name\": \"SVM\",\n",
    "        \"classifier\": SVC(kernel='linear')\n",
    "    },\n",
    "    {\n",
    "        \"name\": \"Random Forest\",\n",
    "        \"classifier\": RandomForestClassifier(max_depth=7, random_state=1234,class_weight='balanced')\n",
    "    },\n",
    "    {\n",
    "        \"name\": \"Decision Tree\",\n",
    "        \"classifier\": DecisionTreeClassifier(max_depth=7,random_state=1234,max_leaf_nodes=5)\n",
    "    },\n",
    "    {\n",
    "        \"name\": \"Logistic Regression\",\n",
    "        \"classifier\": LogisticRegression(penalty='l1',solver='liblinear',random_state=1234,max_iter=10000,C=0.25)\n",
    "    },\n",
    "    {\n",
    "        \"name\": \"KNN\",\n",
    "        \"classifier\": KNeighborsClassifier(n_neighbors=12,weights='distance',algorithm='brute')\n",
    "    },\n",
    "    {\n",
    "        \"name\": \"AdaBoost\",\n",
    "        \"classifier\": AdaBoostClassifier(n_estimators=300, random_state=1234)\n",
    "    },\n",
    "    {\n",
    "        \"name\": \"Gradient Boosting\",\n",
    "        \"classifier\": GradientBoostingClassifier(n_estimators=200, learning_rate=1, random_state=1234)\n",
    "    },\n",
    "    {\n",
    "        \"name\": \"XGboost\",\n",
    "        \"classifier\": XGBClassifier(scale_pos_weight=10,use_label_encoder=False)\n",
    "    },\n",
    "    {\n",
    "        \"name\": \"LDA\",\n",
    "        \"classifier\": LinearDiscriminantAnalysis()\n",
    "    }\n",
    "    ]"
   ]
  },
  {
   "cell_type": "code",
   "execution_count": null,
   "metadata": {},
   "outputs": [],
   "source": []
  },
  {
   "cell_type": "code",
   "execution_count": null,
   "metadata": {},
   "outputs": [
    {
     "name": "stdout",
     "output_type": "stream",
     "text": [
      "SVM\n",
      "Best: 0.899412 using {'class_weight': {0: 1, 1: 1}}\n",
      "0.899412 (0.014032) with: {'class_weight': {0: 100, 1: 1}}\n",
      "0.899216 (0.014145) with: {'class_weight': {0: 10, 1: 1}}\n",
      "0.899412 (0.017735) with: {'class_weight': {0: 1, 1: 1}}\n",
      "0.820980 (0.022460) with: {'class_weight': {0: 1, 1: 10}}\n",
      "0.760784 (0.025293) with: {'class_weight': {0: 1, 1: 100}}\n",
      "Random Forest\n",
      "Best: 0.888627 using {'class_weight': {0: 1, 1: 1}}\n",
      "0.870980 (0.017967) with: {'class_weight': {0: 100, 1: 1}}\n",
      "0.870784 (0.015300) with: {'class_weight': {0: 10, 1: 1}}\n",
      "0.888627 (0.013235) with: {'class_weight': {0: 1, 1: 1}}\n",
      "0.845882 (0.025433) with: {'class_weight': {0: 1, 1: 10}}\n",
      "0.290980 (0.024430) with: {'class_weight': {0: 1, 1: 100}}\n",
      "Decision Tree\n",
      "Best: 0.894706 using {'class_weight': {0: 1, 1: 1}}\n",
      "0.884510 (0.013455) with: {'class_weight': {0: 100, 1: 1}}\n",
      "0.891765 (0.013465) with: {'class_weight': {0: 10, 1: 1}}\n",
      "0.894706 (0.012739) with: {'class_weight': {0: 1, 1: 1}}\n",
      "0.596863 (0.127903) with: {'class_weight': {0: 1, 1: 10}}\n",
      "0.307451 (0.028695) with: {'class_weight': {0: 1, 1: 100}}\n",
      "Logistic Regression\n",
      "Best: 0.907255 using {'class_weight': {0: 1, 1: 1}}\n",
      "0.890980 (0.012500) with: {'class_weight': {0: 100, 1: 1}}\n",
      "0.896078 (0.011500) with: {'class_weight': {0: 10, 1: 1}}\n",
      "0.907255 (0.020246) with: {'class_weight': {0: 1, 1: 1}}\n",
      "0.829804 (0.026435) with: {'class_weight': {0: 1, 1: 10}}\n",
      "0.698039 (0.026626) with: {'class_weight': {0: 1, 1: 100}}\n"
     ]
    },
    {
     "ename": "ValueError",
     "evalue": "Invalid parameter class_weight for estimator KNeighborsClassifier(algorithm='brute', n_neighbors=12, weights='distance'). Check the list of available parameters with `estimator.get_params().keys()`.",
     "output_type": "error",
     "traceback": [
      "\u001b[1;31m---------------------------------------------------------------------------\u001b[0m",
      "\u001b[1;31m_RemoteTraceback\u001b[0m                          Traceback (most recent call last)",
      "\u001b[1;31m_RemoteTraceback\u001b[0m: \n\"\"\"\nTraceback (most recent call last):\n  File \"C:\\Users\\mixalis\\AppData\\Local\\Programs\\Python\\Python39\\lib\\site-packages\\joblib\\externals\\loky\\process_executor.py\", line 436, in _process_worker\n    r = call_item()\n  File \"C:\\Users\\mixalis\\AppData\\Local\\Programs\\Python\\Python39\\lib\\site-packages\\joblib\\externals\\loky\\process_executor.py\", line 288, in __call__\n    return self.fn(*self.args, **self.kwargs)\n  File \"C:\\Users\\mixalis\\AppData\\Local\\Programs\\Python\\Python39\\lib\\site-packages\\joblib\\_parallel_backends.py\", line 595, in __call__\n    return self.func(*args, **kwargs)\n  File \"C:\\Users\\mixalis\\AppData\\Local\\Programs\\Python\\Python39\\lib\\site-packages\\joblib\\parallel.py\", line 262, in __call__\n    return [func(*args, **kwargs)\n  File \"C:\\Users\\mixalis\\AppData\\Local\\Programs\\Python\\Python39\\lib\\site-packages\\joblib\\parallel.py\", line 262, in <listcomp>\n    return [func(*args, **kwargs)\n  File \"C:\\Users\\mixalis\\AppData\\Local\\Programs\\Python\\Python39\\lib\\site-packages\\sklearn\\utils\\fixes.py\", line 209, in __call__\n    return self.function(*args, **kwargs)\n  File \"C:\\Users\\mixalis\\AppData\\Local\\Programs\\Python\\Python39\\lib\\site-packages\\sklearn\\model_selection\\_validation.py\", line 669, in _fit_and_score\n    estimator = estimator.set_params(**cloned_parameters)\n  File \"C:\\Users\\mixalis\\AppData\\Local\\Programs\\Python\\Python39\\lib\\site-packages\\sklearn\\base.py\", line 240, in set_params\n    raise ValueError(\nValueError: Invalid parameter class_weight for estimator KNeighborsClassifier(algorithm='brute', n_neighbors=12, weights='distance'). Check the list of available parameters with `estimator.get_params().keys()`.\n\"\"\"",
      "\nThe above exception was the direct cause of the following exception:\n",
      "\u001b[1;31mValueError\u001b[0m                                Traceback (most recent call last)",
      "\u001b[1;32m~\\AppData\\Local\\Temp/ipykernel_1800/4277962114.py\u001b[0m in \u001b[0;36m<module>\u001b[1;34m\u001b[0m\n\u001b[0;32m     11\u001b[0m     \u001b[0mgrid\u001b[0m \u001b[1;33m=\u001b[0m \u001b[0mGridSearchCV\u001b[0m\u001b[1;33m(\u001b[0m\u001b[0mestimator\u001b[0m\u001b[1;33m=\u001b[0m\u001b[0mclf\u001b[0m\u001b[1;33m,\u001b[0m \u001b[0mparam_grid\u001b[0m\u001b[1;33m=\u001b[0m\u001b[0mparam_grid\u001b[0m\u001b[1;33m,\u001b[0m \u001b[0mn_jobs\u001b[0m\u001b[1;33m=\u001b[0m\u001b[1;33m-\u001b[0m\u001b[1;36m1\u001b[0m\u001b[1;33m,\u001b[0m \u001b[0mcv\u001b[0m\u001b[1;33m=\u001b[0m\u001b[0mcv\u001b[0m\u001b[1;33m,\u001b[0m\u001b[0mscoring\u001b[0m\u001b[1;33m=\u001b[0m\u001b[1;34m'accuracy'\u001b[0m\u001b[1;33m)\u001b[0m\u001b[1;33m\u001b[0m\u001b[1;33m\u001b[0m\u001b[0m\n\u001b[0;32m     12\u001b[0m     \u001b[1;31m# execute the grid search\u001b[0m\u001b[1;33m\u001b[0m\u001b[1;33m\u001b[0m\u001b[0m\n\u001b[1;32m---> 13\u001b[1;33m     \u001b[0mgrid_result\u001b[0m \u001b[1;33m=\u001b[0m \u001b[0mgrid\u001b[0m\u001b[1;33m.\u001b[0m\u001b[0mfit\u001b[0m\u001b[1;33m(\u001b[0m\u001b[0mx\u001b[0m\u001b[1;33m,\u001b[0m \u001b[0my\u001b[0m\u001b[1;33m)\u001b[0m\u001b[1;33m\u001b[0m\u001b[1;33m\u001b[0m\u001b[0m\n\u001b[0m\u001b[0;32m     14\u001b[0m     \u001b[1;31m# report the best configuration\u001b[0m\u001b[1;33m\u001b[0m\u001b[1;33m\u001b[0m\u001b[0m\n\u001b[0;32m     15\u001b[0m     \u001b[0mprint\u001b[0m\u001b[1;33m(\u001b[0m\u001b[0mc\u001b[0m\u001b[1;33m[\u001b[0m\u001b[1;34m\"name\"\u001b[0m\u001b[1;33m]\u001b[0m\u001b[1;33m)\u001b[0m\u001b[1;33m\u001b[0m\u001b[1;33m\u001b[0m\u001b[0m\n",
      "\u001b[1;32m~\\AppData\\Local\\Programs\\Python\\Python39\\lib\\site-packages\\sklearn\\model_selection\\_search.py\u001b[0m in \u001b[0;36mfit\u001b[1;34m(self, X, y, groups, **fit_params)\u001b[0m\n\u001b[0;32m    889\u001b[0m                 \u001b[1;32mreturn\u001b[0m \u001b[0mresults\u001b[0m\u001b[1;33m\u001b[0m\u001b[1;33m\u001b[0m\u001b[0m\n\u001b[0;32m    890\u001b[0m \u001b[1;33m\u001b[0m\u001b[0m\n\u001b[1;32m--> 891\u001b[1;33m             \u001b[0mself\u001b[0m\u001b[1;33m.\u001b[0m\u001b[0m_run_search\u001b[0m\u001b[1;33m(\u001b[0m\u001b[0mevaluate_candidates\u001b[0m\u001b[1;33m)\u001b[0m\u001b[1;33m\u001b[0m\u001b[1;33m\u001b[0m\u001b[0m\n\u001b[0m\u001b[0;32m    892\u001b[0m \u001b[1;33m\u001b[0m\u001b[0m\n\u001b[0;32m    893\u001b[0m             \u001b[1;31m# multimetric is determined here because in the case of a callable\u001b[0m\u001b[1;33m\u001b[0m\u001b[1;33m\u001b[0m\u001b[0m\n",
      "\u001b[1;32m~\\AppData\\Local\\Programs\\Python\\Python39\\lib\\site-packages\\sklearn\\model_selection\\_search.py\u001b[0m in \u001b[0;36m_run_search\u001b[1;34m(self, evaluate_candidates)\u001b[0m\n\u001b[0;32m   1390\u001b[0m     \u001b[1;32mdef\u001b[0m \u001b[0m_run_search\u001b[0m\u001b[1;33m(\u001b[0m\u001b[0mself\u001b[0m\u001b[1;33m,\u001b[0m \u001b[0mevaluate_candidates\u001b[0m\u001b[1;33m)\u001b[0m\u001b[1;33m:\u001b[0m\u001b[1;33m\u001b[0m\u001b[1;33m\u001b[0m\u001b[0m\n\u001b[0;32m   1391\u001b[0m         \u001b[1;34m\"\"\"Search all candidates in param_grid\"\"\"\u001b[0m\u001b[1;33m\u001b[0m\u001b[1;33m\u001b[0m\u001b[0m\n\u001b[1;32m-> 1392\u001b[1;33m         \u001b[0mevaluate_candidates\u001b[0m\u001b[1;33m(\u001b[0m\u001b[0mParameterGrid\u001b[0m\u001b[1;33m(\u001b[0m\u001b[0mself\u001b[0m\u001b[1;33m.\u001b[0m\u001b[0mparam_grid\u001b[0m\u001b[1;33m)\u001b[0m\u001b[1;33m)\u001b[0m\u001b[1;33m\u001b[0m\u001b[1;33m\u001b[0m\u001b[0m\n\u001b[0m\u001b[0;32m   1393\u001b[0m \u001b[1;33m\u001b[0m\u001b[0m\n\u001b[0;32m   1394\u001b[0m \u001b[1;33m\u001b[0m\u001b[0m\n",
      "\u001b[1;32m~\\AppData\\Local\\Programs\\Python\\Python39\\lib\\site-packages\\sklearn\\model_selection\\_search.py\u001b[0m in \u001b[0;36mevaluate_candidates\u001b[1;34m(candidate_params, cv, more_results)\u001b[0m\n\u001b[0;32m    836\u001b[0m                     )\n\u001b[0;32m    837\u001b[0m \u001b[1;33m\u001b[0m\u001b[0m\n\u001b[1;32m--> 838\u001b[1;33m                 out = parallel(\n\u001b[0m\u001b[0;32m    839\u001b[0m                     delayed(_fit_and_score)(\n\u001b[0;32m    840\u001b[0m                         \u001b[0mclone\u001b[0m\u001b[1;33m(\u001b[0m\u001b[0mbase_estimator\u001b[0m\u001b[1;33m)\u001b[0m\u001b[1;33m,\u001b[0m\u001b[1;33m\u001b[0m\u001b[1;33m\u001b[0m\u001b[0m\n",
      "\u001b[1;32m~\\AppData\\Local\\Programs\\Python\\Python39\\lib\\site-packages\\joblib\\parallel.py\u001b[0m in \u001b[0;36m__call__\u001b[1;34m(self, iterable)\u001b[0m\n\u001b[0;32m   1054\u001b[0m \u001b[1;33m\u001b[0m\u001b[0m\n\u001b[0;32m   1055\u001b[0m             \u001b[1;32mwith\u001b[0m \u001b[0mself\u001b[0m\u001b[1;33m.\u001b[0m\u001b[0m_backend\u001b[0m\u001b[1;33m.\u001b[0m\u001b[0mretrieval_context\u001b[0m\u001b[1;33m(\u001b[0m\u001b[1;33m)\u001b[0m\u001b[1;33m:\u001b[0m\u001b[1;33m\u001b[0m\u001b[1;33m\u001b[0m\u001b[0m\n\u001b[1;32m-> 1056\u001b[1;33m                 \u001b[0mself\u001b[0m\u001b[1;33m.\u001b[0m\u001b[0mretrieve\u001b[0m\u001b[1;33m(\u001b[0m\u001b[1;33m)\u001b[0m\u001b[1;33m\u001b[0m\u001b[1;33m\u001b[0m\u001b[0m\n\u001b[0m\u001b[0;32m   1057\u001b[0m             \u001b[1;31m# Make sure that we get a last message telling us we are done\u001b[0m\u001b[1;33m\u001b[0m\u001b[1;33m\u001b[0m\u001b[0m\n\u001b[0;32m   1058\u001b[0m             \u001b[0melapsed_time\u001b[0m \u001b[1;33m=\u001b[0m \u001b[0mtime\u001b[0m\u001b[1;33m.\u001b[0m\u001b[0mtime\u001b[0m\u001b[1;33m(\u001b[0m\u001b[1;33m)\u001b[0m \u001b[1;33m-\u001b[0m \u001b[0mself\u001b[0m\u001b[1;33m.\u001b[0m\u001b[0m_start_time\u001b[0m\u001b[1;33m\u001b[0m\u001b[1;33m\u001b[0m\u001b[0m\n",
      "\u001b[1;32m~\\AppData\\Local\\Programs\\Python\\Python39\\lib\\site-packages\\joblib\\parallel.py\u001b[0m in \u001b[0;36mretrieve\u001b[1;34m(self)\u001b[0m\n\u001b[0;32m    933\u001b[0m             \u001b[1;32mtry\u001b[0m\u001b[1;33m:\u001b[0m\u001b[1;33m\u001b[0m\u001b[1;33m\u001b[0m\u001b[0m\n\u001b[0;32m    934\u001b[0m                 \u001b[1;32mif\u001b[0m \u001b[0mgetattr\u001b[0m\u001b[1;33m(\u001b[0m\u001b[0mself\u001b[0m\u001b[1;33m.\u001b[0m\u001b[0m_backend\u001b[0m\u001b[1;33m,\u001b[0m \u001b[1;34m'supports_timeout'\u001b[0m\u001b[1;33m,\u001b[0m \u001b[1;32mFalse\u001b[0m\u001b[1;33m)\u001b[0m\u001b[1;33m:\u001b[0m\u001b[1;33m\u001b[0m\u001b[1;33m\u001b[0m\u001b[0m\n\u001b[1;32m--> 935\u001b[1;33m                     \u001b[0mself\u001b[0m\u001b[1;33m.\u001b[0m\u001b[0m_output\u001b[0m\u001b[1;33m.\u001b[0m\u001b[0mextend\u001b[0m\u001b[1;33m(\u001b[0m\u001b[0mjob\u001b[0m\u001b[1;33m.\u001b[0m\u001b[0mget\u001b[0m\u001b[1;33m(\u001b[0m\u001b[0mtimeout\u001b[0m\u001b[1;33m=\u001b[0m\u001b[0mself\u001b[0m\u001b[1;33m.\u001b[0m\u001b[0mtimeout\u001b[0m\u001b[1;33m)\u001b[0m\u001b[1;33m)\u001b[0m\u001b[1;33m\u001b[0m\u001b[1;33m\u001b[0m\u001b[0m\n\u001b[0m\u001b[0;32m    936\u001b[0m                 \u001b[1;32melse\u001b[0m\u001b[1;33m:\u001b[0m\u001b[1;33m\u001b[0m\u001b[1;33m\u001b[0m\u001b[0m\n\u001b[0;32m    937\u001b[0m                     \u001b[0mself\u001b[0m\u001b[1;33m.\u001b[0m\u001b[0m_output\u001b[0m\u001b[1;33m.\u001b[0m\u001b[0mextend\u001b[0m\u001b[1;33m(\u001b[0m\u001b[0mjob\u001b[0m\u001b[1;33m.\u001b[0m\u001b[0mget\u001b[0m\u001b[1;33m(\u001b[0m\u001b[1;33m)\u001b[0m\u001b[1;33m)\u001b[0m\u001b[1;33m\u001b[0m\u001b[1;33m\u001b[0m\u001b[0m\n",
      "\u001b[1;32m~\\AppData\\Local\\Programs\\Python\\Python39\\lib\\site-packages\\joblib\\_parallel_backends.py\u001b[0m in \u001b[0;36mwrap_future_result\u001b[1;34m(future, timeout)\u001b[0m\n\u001b[0;32m    540\u001b[0m         AsyncResults.get from multiprocessing.\"\"\"\n\u001b[0;32m    541\u001b[0m         \u001b[1;32mtry\u001b[0m\u001b[1;33m:\u001b[0m\u001b[1;33m\u001b[0m\u001b[1;33m\u001b[0m\u001b[0m\n\u001b[1;32m--> 542\u001b[1;33m             \u001b[1;32mreturn\u001b[0m \u001b[0mfuture\u001b[0m\u001b[1;33m.\u001b[0m\u001b[0mresult\u001b[0m\u001b[1;33m(\u001b[0m\u001b[0mtimeout\u001b[0m\u001b[1;33m=\u001b[0m\u001b[0mtimeout\u001b[0m\u001b[1;33m)\u001b[0m\u001b[1;33m\u001b[0m\u001b[1;33m\u001b[0m\u001b[0m\n\u001b[0m\u001b[0;32m    543\u001b[0m         \u001b[1;32mexcept\u001b[0m \u001b[0mCfTimeoutError\u001b[0m \u001b[1;32mas\u001b[0m \u001b[0me\u001b[0m\u001b[1;33m:\u001b[0m\u001b[1;33m\u001b[0m\u001b[1;33m\u001b[0m\u001b[0m\n\u001b[0;32m    544\u001b[0m             \u001b[1;32mraise\u001b[0m \u001b[0mTimeoutError\u001b[0m \u001b[1;32mfrom\u001b[0m \u001b[0me\u001b[0m\u001b[1;33m\u001b[0m\u001b[1;33m\u001b[0m\u001b[0m\n",
      "\u001b[1;32m~\\AppData\\Local\\Programs\\Python\\Python39\\lib\\concurrent\\futures\\_base.py\u001b[0m in \u001b[0;36mresult\u001b[1;34m(self, timeout)\u001b[0m\n\u001b[0;32m    443\u001b[0m                     \u001b[1;32mraise\u001b[0m \u001b[0mCancelledError\u001b[0m\u001b[1;33m(\u001b[0m\u001b[1;33m)\u001b[0m\u001b[1;33m\u001b[0m\u001b[1;33m\u001b[0m\u001b[0m\n\u001b[0;32m    444\u001b[0m                 \u001b[1;32melif\u001b[0m \u001b[0mself\u001b[0m\u001b[1;33m.\u001b[0m\u001b[0m_state\u001b[0m \u001b[1;33m==\u001b[0m \u001b[0mFINISHED\u001b[0m\u001b[1;33m:\u001b[0m\u001b[1;33m\u001b[0m\u001b[1;33m\u001b[0m\u001b[0m\n\u001b[1;32m--> 445\u001b[1;33m                     \u001b[1;32mreturn\u001b[0m \u001b[0mself\u001b[0m\u001b[1;33m.\u001b[0m\u001b[0m__get_result\u001b[0m\u001b[1;33m(\u001b[0m\u001b[1;33m)\u001b[0m\u001b[1;33m\u001b[0m\u001b[1;33m\u001b[0m\u001b[0m\n\u001b[0m\u001b[0;32m    446\u001b[0m                 \u001b[1;32melse\u001b[0m\u001b[1;33m:\u001b[0m\u001b[1;33m\u001b[0m\u001b[1;33m\u001b[0m\u001b[0m\n\u001b[0;32m    447\u001b[0m                     \u001b[1;32mraise\u001b[0m \u001b[0mTimeoutError\u001b[0m\u001b[1;33m(\u001b[0m\u001b[1;33m)\u001b[0m\u001b[1;33m\u001b[0m\u001b[1;33m\u001b[0m\u001b[0m\n",
      "\u001b[1;32m~\\AppData\\Local\\Programs\\Python\\Python39\\lib\\concurrent\\futures\\_base.py\u001b[0m in \u001b[0;36m__get_result\u001b[1;34m(self)\u001b[0m\n\u001b[0;32m    388\u001b[0m         \u001b[1;32mif\u001b[0m \u001b[0mself\u001b[0m\u001b[1;33m.\u001b[0m\u001b[0m_exception\u001b[0m\u001b[1;33m:\u001b[0m\u001b[1;33m\u001b[0m\u001b[1;33m\u001b[0m\u001b[0m\n\u001b[0;32m    389\u001b[0m             \u001b[1;32mtry\u001b[0m\u001b[1;33m:\u001b[0m\u001b[1;33m\u001b[0m\u001b[1;33m\u001b[0m\u001b[0m\n\u001b[1;32m--> 390\u001b[1;33m                 \u001b[1;32mraise\u001b[0m \u001b[0mself\u001b[0m\u001b[1;33m.\u001b[0m\u001b[0m_exception\u001b[0m\u001b[1;33m\u001b[0m\u001b[1;33m\u001b[0m\u001b[0m\n\u001b[0m\u001b[0;32m    391\u001b[0m             \u001b[1;32mfinally\u001b[0m\u001b[1;33m:\u001b[0m\u001b[1;33m\u001b[0m\u001b[1;33m\u001b[0m\u001b[0m\n\u001b[0;32m    392\u001b[0m                 \u001b[1;31m# Break a reference cycle with the exception in self._exception\u001b[0m\u001b[1;33m\u001b[0m\u001b[1;33m\u001b[0m\u001b[0m\n",
      "\u001b[1;31mValueError\u001b[0m: Invalid parameter class_weight for estimator KNeighborsClassifier(algorithm='brute', n_neighbors=12, weights='distance'). Check the list of available parameters with `estimator.get_params().keys()`."
     ]
    }
   ],
   "source": [
    "# define evaluation procedure\n",
    "cv = RepeatedStratifiedKFold(n_splits=10, n_repeats=3, random_state=1)\n",
    "# define grid\n",
    "balance = [{0:100,1:1}, {0:10,1:1}, {0:1,1:1}, {0:1,1:10}, {0:1,1:100}]\n",
    "param_grid = dict(class_weight=balance)\n",
    "\n",
    "for c in classifiers:\n",
    "    clf=c[\"classifier\"]    \n",
    "    \n",
    "    # define grid search\n",
    "    grid = GridSearchCV(estimator=clf, param_grid=param_grid, n_jobs=-1, cv=cv,scoring='accuracy')\n",
    "    # execute the grid search\n",
    "    grid_result = grid.fit(x, y)\n",
    "    # report the best configuration\n",
    "    print(c[\"name\"])\n",
    "    print('Best: %f using %s' % (grid_result.best_score_, grid_result.best_params_))\n",
    "    # report all configurations\n",
    "    means = grid_result.cv_results_['mean_test_score']\n",
    "    stds = grid_result.cv_results_['std_test_score']\n",
    "    params = grid_result.cv_results_['params']\n",
    "    \n",
    "    for mean, stdev, param in zip(means, stds, params):\n",
    "        \n",
    "        print('%f (%f) with: %r' % (mean, stdev, param))\n",
    "    nested_scores=cross_val_score(estimator=grid_result,X=x,y=y,cv=4)    "
   ]
  },
  {
   "cell_type": "markdown",
   "metadata": {},
   "source": [
    "PCA DATA"
   ]
  },
  {
   "cell_type": "code",
   "execution_count": null,
   "metadata": {},
   "outputs": [],
   "source": [
    "X_train_PCA, X_test_PCA, y_train_PCA, y_test_PCA = train_test_split(X, y, test_size=0.2, random_state=42,stratify=y)\n",
    "classifiers = [\n",
    "    {\n",
    "        \"name\": \"SVM\",\n",
    "        \"classifier\": SVC(kernel='linear',C=0.1)\n",
    "    },\n",
    "    {\n",
    "        \"name\": \"Random Forest\",\n",
    "        \"classifier\": RandomForestClassifier(max_depth=7, random_state=1234,class_weight='balanced')\n",
    "    },\n",
    "    {\n",
    "        \"name\": \"Decision Tree\",\n",
    "        \"classifier\": DecisionTreeClassifier(max_depth=7,random_state=1234,max_leaf_nodes=7)\n",
    "    },\n",
    "    {\n",
    "        \"name\": \"Logistic Regression\",\n",
    "        \"classifier\": LogisticRegression(penalty='l1',solver='liblinear',random_state=1234,C=0.1)\n",
    "    },\n",
    "    {\n",
    "        \"name\": \"KNN\",\n",
    "        \"classifier\": KNeighborsClassifier(n_neighbors=6,weights='distance',algorithm='brute')\n",
    "    },\n",
    "    {\n",
    "        \"name\": \"AdaBoost\",\n",
    "        \"classifier\": AdaBoostClassifier(n_estimators=300, random_state=1234)\n",
    "    },\n",
    "    {\n",
    "        \"name\": \"Gradient Boosting\",\n",
    "        \"classifier\": GradientBoostingClassifier(n_estimators=200, learning_rate=1, random_state=1234)\n",
    "    },\n",
    "    {\n",
    "        \"name\": \"Perceptron\",\n",
    "        \"classifier\": Perceptron()\n",
    "    }\n",
    "    \n",
    "    ] "
   ]
  },
  {
   "cell_type": "code",
   "execution_count": null,
   "metadata": {},
   "outputs": [
    {
     "name": "stdout",
     "output_type": "stream",
     "text": [
      "classification report for SVM\n",
      "\n",
      "              precision    recall  f1-score   support\n",
      "\n",
      "           0       0.90      0.97      0.93       286\n",
      "           1       0.73      0.44      0.55        54\n",
      "\n",
      "    accuracy                           0.89       340\n",
      "   macro avg       0.81      0.71      0.74       340\n",
      "weighted avg       0.87      0.89      0.87       340\n",
      "\n",
      "classification report for Random Forest\n",
      "\n",
      "              precision    recall  f1-score   support\n",
      "\n",
      "           0       0.89      0.96      0.92       286\n",
      "           1       0.61      0.35      0.45        54\n",
      "\n",
      "    accuracy                           0.86       340\n",
      "   macro avg       0.75      0.65      0.68       340\n",
      "weighted avg       0.84      0.86      0.85       340\n",
      "\n",
      "classification report for Decision Tree\n",
      "\n",
      "              precision    recall  f1-score   support\n",
      "\n",
      "           0       0.89      0.93      0.91       286\n",
      "           1       0.51      0.41      0.45        54\n",
      "\n",
      "    accuracy                           0.84       340\n",
      "   macro avg       0.70      0.67      0.68       340\n",
      "weighted avg       0.83      0.84      0.84       340\n",
      "\n",
      "classification report for Logistic Regression\n",
      "\n",
      "              precision    recall  f1-score   support\n",
      "\n",
      "           0       0.90      0.96      0.93       286\n",
      "           1       0.69      0.44      0.54        54\n",
      "\n",
      "    accuracy                           0.88       340\n",
      "   macro avg       0.79      0.70      0.73       340\n",
      "weighted avg       0.87      0.88      0.87       340\n",
      "\n",
      "classification report for KNN\n",
      "\n",
      "              precision    recall  f1-score   support\n",
      "\n",
      "           0       0.88      0.98      0.92       286\n",
      "           1       0.70      0.26      0.38        54\n",
      "\n",
      "    accuracy                           0.86       340\n",
      "   macro avg       0.79      0.62      0.65       340\n",
      "weighted avg       0.85      0.86      0.84       340\n",
      "\n",
      "classification report for AdaBoost\n",
      "\n",
      "              precision    recall  f1-score   support\n",
      "\n",
      "           0       0.90      0.91      0.91       286\n",
      "           1       0.51      0.48      0.50        54\n",
      "\n",
      "    accuracy                           0.84       340\n",
      "   macro avg       0.71      0.70      0.70       340\n",
      "weighted avg       0.84      0.84      0.84       340\n",
      "\n",
      "classification report for Gradient Boosting\n",
      "\n",
      "              precision    recall  f1-score   support\n",
      "\n",
      "           0       0.89      0.93      0.91       286\n",
      "           1       0.51      0.39      0.44        54\n",
      "\n",
      "    accuracy                           0.84       340\n",
      "   macro avg       0.70      0.66      0.68       340\n",
      "weighted avg       0.83      0.84      0.84       340\n",
      "\n",
      "classification report for Perceptron\n",
      "\n",
      "              precision    recall  f1-score   support\n",
      "\n",
      "           0       0.91      0.88      0.89       286\n",
      "           1       0.45      0.54      0.49        54\n",
      "\n",
      "    accuracy                           0.82       340\n",
      "   macro avg       0.68      0.71      0.69       340\n",
      "weighted avg       0.84      0.82      0.83       340\n",
      "\n"
     ]
    }
   ],
   "source": [
    "for c in classifiers:\n",
    "    clf=c[\"classifier\"]\n",
    "    clf.fit(X_train_PCA, y_train_PCA)\n",
    "    y_pred = clf.predict(X_test_PCA)\n",
    "    y_true=y_test_PCA\n",
    "    print(\"classification report for {}\\n\".format(c[\"name\"]))\n",
    "    print(classification_report(y_test_PCA,y_pred))"
   ]
  },
  {
   "cell_type": "code",
   "execution_count": null,
   "metadata": {},
   "outputs": [],
   "source": [
    "classifiers = [\n",
    "    {\n",
    "        \"name\": \"SVM\",\n",
    "        \"classifier\": SVC(kernel='linear',C=0.07)\n",
    "    },\n",
    "    {\n",
    "        \"name\": \"Random Forest\",\n",
    "        \"classifier\": RandomForestClassifier(max_depth=7, random_state=1234,class_weight='balanced')\n",
    "    },\n",
    "    {\n",
    "        \"name\": \"Decision Tree\",\n",
    "        \"classifier\": DecisionTreeClassifier(max_depth=7,random_state=1234,max_leaf_nodes=7)\n",
    "    },\n",
    "    {\n",
    "        \"name\": \"Logistic Regression\",\n",
    "        \"classifier\": LogisticRegression(penalty='l1',solver='liblinear',random_state=1234,C=0.1)\n",
    "    },\n",
    "    {\n",
    "        \"name\": \"KNN\",\n",
    "        \"classifier\": KNeighborsClassifier(n_neighbors=7,weights='distance',algorithm='brute')\n",
    "    },\n",
    "    {\n",
    "        \"name\": \"AdaBoost\",\n",
    "        \"classifier\": AdaBoostClassifier(n_estimators=250, random_state=1234)\n",
    "    },\n",
    "    {\n",
    "        \"name\": \"Gradient Boosting\",\n",
    "        \"classifier\": GradientBoostingClassifier(n_estimators=250, learning_rate=1.2, random_state=1234)\n",
    "    },\n",
    "    {\n",
    "        \"name\": \"Perceptron\",\n",
    "        \"classifier\": Perceptron()\n",
    "    }\n",
    "    ]"
   ]
  },
  {
   "cell_type": "markdown",
   "metadata": {},
   "source": [
    "Normalized Data"
   ]
  },
  {
   "cell_type": "code",
   "execution_count": null,
   "metadata": {},
   "outputs": [
    {
     "name": "stdout",
     "output_type": "stream",
     "text": [
      "classification report for SVM\n",
      "\n",
      "              precision    recall  f1-score   support\n",
      "\n",
      "           0       0.90      0.99      0.94       286\n",
      "           1       0.91      0.39      0.55        54\n",
      "\n",
      "    accuracy                           0.90       340\n",
      "   macro avg       0.90      0.69      0.74       340\n",
      "weighted avg       0.90      0.90      0.88       340\n",
      "\n",
      "classification report for Random Forest\n",
      "\n",
      "              precision    recall  f1-score   support\n",
      "\n",
      "           0       0.93      0.98      0.95       286\n",
      "           1       0.82      0.61      0.70        54\n",
      "\n",
      "    accuracy                           0.92       340\n",
      "   macro avg       0.88      0.79      0.83       340\n",
      "weighted avg       0.91      0.92      0.91       340\n",
      "\n",
      "classification report for Decision Tree\n",
      "\n",
      "              precision    recall  f1-score   support\n",
      "\n",
      "           0       0.89      1.00      0.94       286\n",
      "           1       0.94      0.31      0.47        54\n",
      "\n",
      "    accuracy                           0.89       340\n",
      "   macro avg       0.91      0.66      0.70       340\n",
      "weighted avg       0.89      0.89      0.86       340\n",
      "\n",
      "classification report for Logistic Regression\n",
      "\n",
      "              precision    recall  f1-score   support\n",
      "\n",
      "           0       0.89      1.00      0.94       286\n",
      "           1       0.95      0.35      0.51        54\n",
      "\n",
      "    accuracy                           0.89       340\n",
      "   macro avg       0.92      0.67      0.73       340\n",
      "weighted avg       0.90      0.89      0.87       340\n",
      "\n",
      "classification report for KNN\n",
      "\n",
      "              precision    recall  f1-score   support\n",
      "\n",
      "           0       0.87      0.99      0.92       286\n",
      "           1       0.73      0.20      0.32        54\n",
      "\n",
      "    accuracy                           0.86       340\n",
      "   macro avg       0.80      0.59      0.62       340\n",
      "weighted avg       0.85      0.86      0.83       340\n",
      "\n"
     ]
    },
    {
     "name": "stderr",
     "output_type": "stream",
     "text": [
      "C:\\Users\\mixalis\\AppData\\Local\\Programs\\Python\\Python39\\lib\\site-packages\\sklearn\\base.py:441: UserWarning: X does not have valid feature names, but KNeighborsClassifier was fitted with feature names\n",
      "  warnings.warn(\n",
      "C:\\Users\\mixalis\\AppData\\Local\\Programs\\Python\\Python39\\lib\\site-packages\\sklearn\\base.py:441: UserWarning: X does not have valid feature names, but AdaBoostClassifier was fitted with feature names\n",
      "  warnings.warn(\n"
     ]
    },
    {
     "name": "stdout",
     "output_type": "stream",
     "text": [
      "classification report for AdaBoost\n",
      "\n",
      "              precision    recall  f1-score   support\n",
      "\n",
      "           0       0.93      0.95      0.94       286\n",
      "           1       0.71      0.59      0.65        54\n",
      "\n",
      "    accuracy                           0.90       340\n",
      "   macro avg       0.82      0.77      0.79       340\n",
      "weighted avg       0.89      0.90      0.89       340\n",
      "\n",
      "classification report for Gradient Boosting\n",
      "\n",
      "              precision    recall  f1-score   support\n",
      "\n",
      "           0       0.93      0.95      0.94       286\n",
      "           1       0.71      0.63      0.67        54\n",
      "\n",
      "    accuracy                           0.90       340\n",
      "   macro avg       0.82      0.79      0.80       340\n",
      "weighted avg       0.90      0.90      0.90       340\n",
      "\n",
      "classification report for Perceptron\n",
      "\n",
      "              precision    recall  f1-score   support\n",
      "\n",
      "           0       0.90      0.60      0.72       286\n",
      "           1       0.23      0.65      0.34        54\n",
      "\n",
      "    accuracy                           0.61       340\n",
      "   macro avg       0.57      0.62      0.53       340\n",
      "weighted avg       0.79      0.61      0.66       340\n",
      "\n"
     ]
    }
   ],
   "source": [
    "for c in classifiers:\n",
    "    clf=c[\"classifier\"]\n",
    "    clf.fit(X_train_norm, y_train)\n",
    "    y_pred = clf.predict(X_test_norm)\n",
    "    y_true=y_test\n",
    "    print(\"classification report for {}\\n\".format(c[\"name\"]))\n",
    "    print(classification_report(y_test,y_pred))"
   ]
  },
  {
   "cell_type": "markdown",
   "metadata": {},
   "source": [
    "CHI2 SCALED DATA"
   ]
  },
  {
   "cell_type": "code",
   "execution_count": null,
   "metadata": {},
   "outputs": [],
   "source": [
    "classifiers = [\n",
    "    {\n",
    "        \"name\": \"SVM\",\n",
    "        \"classifier\": SVC(kernel='linear',C=0.02)\n",
    "    },\n",
    "    {\n",
    "        \"name\": \"Random Forest\",\n",
    "        \"classifier\": RandomForestClassifier(max_depth=6, random_state=1234,class_weight='balanced')\n",
    "    },\n",
    "    {\n",
    "        \"name\": \"Decision Tree\",\n",
    "        \"classifier\": DecisionTreeClassifier(max_depth=7,random_state=1234,max_leaf_nodes=7)\n",
    "    },\n",
    "    {\n",
    "        \"name\": \"Logistic Regression\",\n",
    "        \"classifier\": LogisticRegression(penalty='l1',solver='liblinear',random_state=1234,C=0.1)\n",
    "    },\n",
    "    {\n",
    "        \"name\": \"KNN\",\n",
    "        \"classifier\": KNeighborsClassifier(n_neighbors=6,weights='distance',algorithm='brute')\n",
    "    },\n",
    "    {\n",
    "        \"name\": \"AdaBoost\",\n",
    "        \"classifier\": AdaBoostClassifier(n_estimators=300, random_state=1234)\n",
    "    },\n",
    "    {\n",
    "        \"name\": \"Gradient Boosting\",\n",
    "        \"classifier\": GradientBoostingClassifier(n_estimators=200, learning_rate=1, random_state=1234)\n",
    "    },\n",
    "    ] "
   ]
  },
  {
   "cell_type": "code",
   "execution_count": null,
   "metadata": {},
   "outputs": [
    {
     "name": "stdout",
     "output_type": "stream",
     "text": [
      "classification report for SVM\n",
      "\n",
      "              precision    recall  f1-score   support\n",
      "\n",
      "           0       0.87      1.00      0.93       286\n",
      "           1       0.93      0.24      0.38        54\n",
      "\n",
      "    accuracy                           0.88       340\n",
      "   macro avg       0.90      0.62      0.66       340\n",
      "weighted avg       0.88      0.88      0.84       340\n",
      "\n",
      "classification report for Random Forest\n",
      "\n",
      "              precision    recall  f1-score   support\n",
      "\n",
      "           0       0.95      0.93      0.94       286\n",
      "           1       0.67      0.72      0.70        54\n",
      "\n",
      "    accuracy                           0.90       340\n",
      "   macro avg       0.81      0.83      0.82       340\n",
      "weighted avg       0.90      0.90      0.90       340\n",
      "\n",
      "classification report for Decision Tree\n",
      "\n",
      "              precision    recall  f1-score   support\n",
      "\n",
      "           0       0.89      1.00      0.94       286\n",
      "           1       0.94      0.31      0.47        54\n",
      "\n",
      "    accuracy                           0.89       340\n",
      "   macro avg       0.91      0.66      0.70       340\n",
      "weighted avg       0.89      0.89      0.86       340\n",
      "\n",
      "classification report for Logistic Regression\n",
      "\n",
      "              precision    recall  f1-score   support\n",
      "\n",
      "           0       0.90      0.99      0.94       286\n",
      "           1       0.86      0.44      0.59        54\n",
      "\n",
      "    accuracy                           0.90       340\n",
      "   macro avg       0.88      0.72      0.76       340\n",
      "weighted avg       0.90      0.90      0.89       340\n",
      "\n",
      "classification report for KNN\n",
      "\n",
      "              precision    recall  f1-score   support\n",
      "\n",
      "           0       0.87      0.96      0.91       286\n",
      "           1       0.50      0.22      0.31        54\n",
      "\n",
      "    accuracy                           0.84       340\n",
      "   macro avg       0.68      0.59      0.61       340\n",
      "weighted avg       0.81      0.84      0.81       340\n",
      "\n",
      "classification report for AdaBoost\n",
      "\n",
      "              precision    recall  f1-score   support\n",
      "\n",
      "           0       0.93      0.96      0.94       286\n",
      "           1       0.73      0.59      0.65        54\n",
      "\n",
      "    accuracy                           0.90       340\n",
      "   macro avg       0.83      0.78      0.80       340\n",
      "weighted avg       0.89      0.90      0.90       340\n",
      "\n",
      "classification report for Gradient Boosting\n",
      "\n",
      "              precision    recall  f1-score   support\n",
      "\n",
      "           0       0.92      0.93      0.93       286\n",
      "           1       0.62      0.57      0.60        54\n",
      "\n",
      "    accuracy                           0.88       340\n",
      "   macro avg       0.77      0.75      0.76       340\n",
      "weighted avg       0.87      0.88      0.87       340\n",
      "\n"
     ]
    }
   ],
   "source": [
    "for c in classifiers:\n",
    "    clf=c[\"classifier\"]\n",
    "    clf.fit(X_train_fs, y_train)\n",
    "    y_pred = clf.predict(X_test_fs)\n",
    "    y_true=y_test\n",
    "    print(\"classification report for {}\\n\".format(c[\"name\"]))\n",
    "    print(classification_report(y_test,y_pred))"
   ]
  },
  {
   "cell_type": "code",
   "execution_count": null,
   "metadata": {},
   "outputs": [
    {
     "name": "stdout",
     "output_type": "stream",
     "text": [
      "Epoch 1/20\n",
      "43/43 [==============================] - 1s 1ms/step - loss: 0.9255 - recall: 0.1429\n",
      "Epoch 2/20\n",
      "43/43 [==============================] - 0s 1ms/step - loss: 0.5538 - recall: 0.1935\n",
      "Epoch 3/20\n",
      "43/43 [==============================] - 0s 1ms/step - loss: 0.4427 - recall: 0.2811\n",
      "Epoch 4/20\n",
      "43/43 [==============================] - 0s 1ms/step - loss: 0.3593 - recall: 0.2535\n",
      "Epoch 5/20\n",
      "43/43 [==============================] - 0s 1ms/step - loss: 0.3143 - recall: 0.3410\n",
      "Epoch 6/20\n",
      "43/43 [==============================] - 0s 1ms/step - loss: 0.2885 - recall: 0.4055\n",
      "Epoch 7/20\n",
      "43/43 [==============================] - 0s 1ms/step - loss: 0.3038 - recall: 0.4424\n",
      "Epoch 8/20\n",
      "43/43 [==============================] - 0s 1ms/step - loss: 0.3406 - recall: 0.4147\n",
      "Epoch 9/20\n",
      "43/43 [==============================] - 0s 1ms/step - loss: 0.3829 - recall: 0.4516\n",
      "Epoch 10/20\n",
      "43/43 [==============================] - 0s 1ms/step - loss: 0.2679 - recall: 0.5023\n",
      "Epoch 11/20\n",
      "43/43 [==============================] - 0s 1ms/step - loss: 0.3027 - recall: 0.5346\n",
      "Epoch 12/20\n",
      "43/43 [==============================] - 0s 1ms/step - loss: 0.2737 - recall: 0.5576\n",
      "Epoch 13/20\n",
      "43/43 [==============================] - 0s 1ms/step - loss: 0.2660 - recall: 0.5760\n",
      "Epoch 14/20\n",
      "43/43 [==============================] - 0s 1ms/step - loss: 0.2558 - recall: 0.5760\n",
      "Epoch 15/20\n",
      "43/43 [==============================] - 0s 1ms/step - loss: 0.3329 - recall: 0.5115\n",
      "Epoch 16/20\n",
      "43/43 [==============================] - 0s 1ms/step - loss: 0.2416 - recall: 0.5945\n",
      "Epoch 17/20\n",
      "43/43 [==============================] - 0s 1ms/step - loss: 0.2252 - recall: 0.6313\n",
      "Epoch 18/20\n",
      "43/43 [==============================] - 0s 1ms/step - loss: 0.3594 - recall: 0.4839\n",
      "Epoch 19/20\n",
      "43/43 [==============================] - 0s 1ms/step - loss: 0.2174 - recall: 0.6544\n",
      "Epoch 20/20\n",
      "43/43 [==============================] - 0s 1ms/step - loss: 0.3017 - recall: 0.5392\n",
      "              precision    recall  f1-score   support\n",
      "\n",
      "           0       0.94      0.84      0.89       286\n",
      "           1       0.47      0.74      0.57        54\n",
      "\n",
      "    accuracy                           0.82       340\n",
      "   macro avg       0.70      0.79      0.73       340\n",
      "weighted avg       0.87      0.82      0.84       340\n",
      "\n"
     ]
    }
   ],
   "source": [
    "#weights = {0:1, 1:6} ΔΕ ΒΟΗΘΗΣΕ\n",
    "input_dim=len(X_train_norm.transpose())\n",
    "model=Sequential()\n",
    "model.add(Dense(300,input_dim=input_dim,activation=\"relu\",kernel_initializer=\"he_uniform\"))\n",
    "model.add(Dense(200,activation=\"relu\",kernel_initializer=\"he_uniform\"))\n",
    "model.add(Dense(100,activation=\"relu\",kernel_initializer=\"he_uniform\"))\n",
    "model.add(Dense(1,activation=\"sigmoid\"))\n",
    "model.compile(loss=\"binary_crossentropy\",optimizer=\"adam\",metrics=['Recall'])\n",
    "model.fit(X_train_norm,y_train,epochs=20)#,class_weight=weights)\n",
    "y_pred=(model.predict(X_test_norm)> 0.5).astype(\"int32\")\n",
    "y_true=y_test\n",
    "#classes_x=np.argmax(y_pred,axis=1)\n",
    "\n",
    "print(classification_report(y_true,y_pred))\n",
    "#classes_x#'.transpose()\n",
    "#y_pred"
   ]
  },
  {
   "cell_type": "code",
   "execution_count": null,
   "metadata": {},
   "outputs": [
    {
     "data": {
      "text/plain": [
       "'KELI YPODEIGMA KAI APODEIKSI OTI y_true=y_test\\nclf =SVC(kernel=\\'linear\\')\\nclf.fit(X_train, y_train)\\ny_pred = clf.predict(X_test)\\ny_true=y_test\\nprint(\"Accuracy:\",metrics.accuracy_score(y_test, y_pred))\\nprint(\"Precision:\",metrics.precision_score(y_true, y_pred,average=None))#by default pairnoume to average precision gia kathe klasi. edw me average=none mas dinei kai gia tis 2 klaseis\\nprint(\"recall\",metrics.recall_score(y_true,y_pred,average=None))\\nprint(classification_report(y_test,y_pred))'"
      ]
     },
     "execution_count": 27,
     "metadata": {},
     "output_type": "execute_result"
    }
   ],
   "source": [
    "\"\"\"KELI YPODEIGMA KAI APODEIKSI OTI y_true=y_test\n",
    "clf =SVC(kernel='linear')\n",
    "clf.fit(X_train, y_train)\n",
    "y_pred = clf.predict(X_test)\n",
    "y_true=y_test\n",
    "print(\"Accuracy:\",metrics.accuracy_score(y_test, y_pred))\n",
    "print(\"Precision:\",metrics.precision_score(y_true, y_pred,average=None))#by default pairnoume to average precision gia kathe klasi. edw me average=none mas dinei kai gia tis 2 klaseis\n",
    "print(\"recall\",metrics.recall_score(y_true,y_pred,average=None))\n",
    "print(classification_report(y_test,y_pred))\"\"\"\n",
    "\n"
   ]
  },
  {
   "cell_type": "markdown",
   "metadata": {},
   "source": [
    "oversampling"
   ]
  },
  {
   "cell_type": "code",
   "execution_count": null,
   "metadata": {},
   "outputs": [
    {
     "name": "stdout",
     "output_type": "stream",
     "text": [
      "0.6424640341608322\n"
     ]
    }
   ],
   "source": [
    "clf = SVC(kernel='linear')\n",
    "cv = RepeatedStratifiedKFold(n_splits=10, n_repeats=3, random_state=1)\n",
    "scores=cross_val_score(clf, x, y, cv=cv,scoring=\"f1\")\n",
    "print(scores.mean())"
   ]
  },
  {
   "cell_type": "code",
   "execution_count": null,
   "metadata": {},
   "outputs": [
    {
     "name": "stdout",
     "output_type": "stream",
     "text": [
      "0.8470588235294118\n"
     ]
    }
   ],
   "source": [
    "clf = RandomForestClassifier(max_depth=2, random_state=0)\n",
    "#cv = RepeatedStratifiedKFold(n_splits=10, n_repeats=3, random_state=1)\n",
    "scores=cross_val_score(clf, x, y, cv=cv,scoring=\"accuracy\")\n",
    "print(scores.mean())"
   ]
  },
  {
   "cell_type": "code",
   "execution_count": null,
   "metadata": {},
   "outputs": [],
   "source": [
    "oversample=SMOTE()\n",
    "x_train_resampled,y_train_resampled=oversample.fit_resample(X_train_norm,y_train)"
   ]
  },
  {
   "cell_type": "code",
   "execution_count": null,
   "metadata": {},
   "outputs": [
    {
     "name": "stdout",
     "output_type": "stream",
     "text": [
      "Accuracy: 0.8411764705882353\n",
      "Precision: [0.93609023 0.5       ]\n",
      "recall [0.87062937 0.68518519]\n"
     ]
    }
   ],
   "source": [
    "clf =SVC(kernel='linear',C=1.9)\n",
    "clf.fit(x_train_resampled, y_train_resampled)\n",
    "y_pred = clf.predict(X_test_norm)\n",
    "y_true=y_test\n",
    "print(\"Accuracy:\",metrics.accuracy_score(y_test, y_pred))\n",
    "print(\"Precision:\",metrics.precision_score(y_true, y_pred,average=None))#by default pairnoume to average precision gia kathe klasi. edw me average=none mas dinei kai gia tis 2 klaseis\n",
    "print(\"recall\",metrics.recall_score(y_true,y_pred,average=None))"
   ]
  },
  {
   "cell_type": "code",
   "execution_count": null,
   "metadata": {},
   "outputs": [
    {
     "name": "stdout",
     "output_type": "stream",
     "text": [
      "5.267281105990784\n",
      "Accuracy: 0.8264705882352941\n",
      "Precision: [0.95582329 0.47252747]\n",
      "recall [0.83216783 0.7962963 ]\n"
     ]
    }
   ],
   "source": [
    "weight_minority_class=np.sum(y_train==0)/np.sum(y_train==1)\n",
    "print(weight_minority_class)\n",
    "clf =SVC(kernel='linear',class_weight={0:1,1:weight_minority_class})\n",
    "clf.fit(X_train, y_train)\n",
    "y_pred = clf.predict(X_test)\n",
    "y_true=y_test\n",
    "print(\"Accuracy:\",metrics.accuracy_score(y_test, y_pred))\n",
    "print(\"Precision:\",metrics.precision_score(y_true, y_pred,average=None))#by default pairnoume to average precision gia kathe klasi. edw me average=none mas dinei kai gia tis 2 klaseis\n",
    "print(\"recall\",metrics.recall_score(y_true,y_pred,average=None))"
   ]
  },
  {
   "cell_type": "code",
   "execution_count": null,
   "metadata": {},
   "outputs": [],
   "source": [
    "undersample=RandomUnderSampler(sampling_strategy='majority')\n",
    "x_train_undersampled,y_train_undersampled=undersample.fit_resample(X_train,y_train)"
   ]
  },
  {
   "cell_type": "code",
   "execution_count": null,
   "metadata": {},
   "outputs": [
    {
     "name": "stdout",
     "output_type": "stream",
     "text": [
      "Accuracy: 0.8\n",
      "Precision: [0.96186441 0.43269231]\n",
      "recall [0.79370629 0.83333333]\n"
     ]
    }
   ],
   "source": [
    "clf =SVC(kernel='linear')\n",
    "clf.fit(x_train_undersampled, y_train_undersampled)\n",
    "y_pred = clf.predict(X_test)\n",
    "y_true=y_test\n",
    "print(\"Accuracy:\",metrics.accuracy_score(y_test, y_pred))\n",
    "print(\"Precision:\",metrics.precision_score(y_true, y_pred,average=None))#by default pairnoume to average precision gia kathe klasi. edw me average=none mas dinei kai gia tis 2 klaseis\n",
    "print(\"recall\",metrics.recall_score(y_true,y_pred,average=None))"
   ]
  },
  {
   "cell_type": "code",
   "execution_count": null,
   "metadata": {},
   "outputs": [],
   "source": [
    "scoring = {'acc': 'accuracy',\n",
    "           'roc_auc': 'roc_auc',\n",
    "           'f1': 'f1'\n",
    "          }"
   ]
  },
  {
   "cell_type": "markdown",
   "metadata": {},
   "source": [
    "RANDOM UNDERSAMPLING WITH CROSS VALIDATION"
   ]
  },
  {
   "cell_type": "code",
   "execution_count": null,
   "metadata": {},
   "outputs": [
    {
     "name": "stdout",
     "output_type": "stream",
     "text": [
      "{'fit_time': array([1.23868489, 1.52691388, 2.11633706, 1.62066293, 1.24466872,\n",
      "       2.58408618, 2.04652405, 2.37664104, 1.82511663, 1.25563979,\n",
      "       2.85436225, 1.90889168, 2.40356874, 1.63761759, 1.55284476,\n",
      "       2.53820872, 2.90023851, 1.17685008, 1.53888178, 1.55982637,\n",
      "       1.51694131, 1.15889907, 3.54551315, 1.65557098, 2.16221428,\n",
      "       1.49101162, 1.37332368, 1.62664652, 0.98835516, 1.53589082]), 'score_time': array([0.00598478, 0.00698137, 0.00498724, 0.00598407, 0.00698137,\n",
      "       0.00598383, 0.00598431, 0.00598407, 0.00498748, 0.00498676,\n",
      "       0.00498867, 0.00498748, 0.00598407, 0.00498652, 0.00598431,\n",
      "       0.00598383, 0.00498676, 0.00598526, 0.00498676, 0.00498724,\n",
      "       0.00598454, 0.00598359, 0.00598407, 0.00598407, 0.00498772,\n",
      "       0.00797915, 0.00498652, 0.00498629, 0.00498772, 0.00498724]), 'test_acc': array([0.82941176, 0.86470588, 0.84117647, 0.78235294, 0.84705882,\n",
      "       0.86470588, 0.82941176, 0.82941176, 0.85294118, 0.85294118,\n",
      "       0.81176471, 0.81764706, 0.88823529, 0.85882353, 0.82352941,\n",
      "       0.78823529, 0.88235294, 0.8       , 0.79411765, 0.81176471,\n",
      "       0.83529412, 0.81764706, 0.79411765, 0.87058824, 0.79411765,\n",
      "       0.85294118, 0.81176471, 0.84705882, 0.82352941, 0.82941176]), 'test_precision': array([0.48076923, 0.55      , 0.5       , 0.41666667, 0.51282051,\n",
      "       0.54545455, 0.47826087, 0.47727273, 0.525     , 0.53061224,\n",
      "       0.45098039, 0.45652174, 0.59090909, 0.53488372, 0.46666667,\n",
      "       0.42372881, 0.58139535, 0.42857143, 0.42307692, 0.45454545,\n",
      "       0.4893617 , 0.45833333, 0.42307692, 0.55813953, 0.42592593,\n",
      "       0.525     , 0.45098039, 0.51219512, 0.46153846, 0.48888889]), 'test_recall': array([0.92592593, 0.81481481, 0.85185185, 0.92592593, 0.74074074,\n",
      "       0.88888889, 0.81481481, 0.77777778, 0.77777778, 0.92857143,\n",
      "       0.85185185, 0.77777778, 0.96296296, 0.85185185, 0.77777778,\n",
      "       0.92592593, 0.92592593, 0.77777778, 0.81481481, 0.71428571,\n",
      "       0.85185185, 0.81481481, 0.81481481, 0.88888889, 0.85185185,\n",
      "       0.77777778, 0.85185185, 0.77777778, 0.66666667, 0.78571429]), 'test_f1_weighted': array([0.84823364, 0.87461014, 0.85619426, 0.80943646, 0.85761349,\n",
      "       0.87662797, 0.84554198, 0.84444397, 0.86370668, 0.86712348,\n",
      "       0.83210252, 0.83488971, 0.89808398, 0.87077498, 0.83966198,\n",
      "       0.81429387, 0.89231248, 0.82061404, 0.8168337 , 0.82706077,\n",
      "       0.85135972, 0.83595117, 0.8168337 , 0.88154373, 0.81770005,\n",
      "       0.86370668, 0.83210252, 0.85886678, 0.83570787, 0.84384407])}\n"
     ]
    }
   ],
   "source": [
    "'''clf = SVC(kernel='linear')\n",
    "cv = RepeatedStratifiedKFold(n_splits=10, n_repeats=3, random_state=1)\n",
    "scores=cross_val_score(clf, x_train_undersampled, y_train_undersampled, cv=cv,scoring=\"f1\")\n",
    "print(scores.mean())'''\n",
    "steps = [('under', RandomUnderSampler()), ('model',SVC(kernel='linear'))]\n",
    "pipeline = Pipeline(steps=steps)\n",
    "cv = RepeatedStratifiedKFold(n_splits=10, n_repeats=3, random_state=1)\n",
    "scores2=cross_validate(pipeline,x,y, cv=cv,scoring=scoring,n_jobs=-1)\n",
    "print(scores2)"
   ]
  },
  {
   "cell_type": "markdown",
   "metadata": {},
   "source": [
    "RANDOM OVERSAMPLING"
   ]
  },
  {
   "cell_type": "code",
   "execution_count": null,
   "metadata": {},
   "outputs": [],
   "source": [
    "oversample = RandomOverSampler(sampling_strategy='minority')\n",
    "# fit and apply the transform\n",
    "X_over, y_over = oversample.fit_resample(X_train, y_train)"
   ]
  },
  {
   "cell_type": "code",
   "execution_count": null,
   "metadata": {},
   "outputs": [
    {
     "name": "stdout",
     "output_type": "stream",
     "text": [
      "Accuracy: 0.85\n",
      "Precision: [0.94339623 0.52      ]\n",
      "recall [0.87412587 0.72222222]\n"
     ]
    }
   ],
   "source": [
    "clf =SVC(kernel='linear')\n",
    "clf.fit(X_over, y_over)\n",
    "y_pred = clf.predict(X_test)\n",
    "y_true=y_test\n",
    "print(\"Accuracy:\",metrics.accuracy_score(y_test, y_pred))\n",
    "print(\"Precision:\",metrics.precision_score(y_true, y_pred,average=None))#by default pairnoume to average precision gia kathe klasi. edw me average=none mas dinei kai gia tis 2 klaseis\n",
    "print(\"recall\",metrics.recall_score(y_true,y_pred,average=None))"
   ]
  },
  {
   "cell_type": "markdown",
   "metadata": {},
   "source": [
    "RANDOM OVERSAMPLING WITH CROSS VALIDATION"
   ]
  },
  {
   "cell_type": "code",
   "execution_count": null,
   "metadata": {},
   "outputs": [
    {
     "name": "stdout",
     "output_type": "stream",
     "text": [
      "{'fit_time': array([ 25.63342118,  55.18037367,  45.38158846,  48.7116797 ,\n",
      "        24.14739823, 134.98786378,  41.41619849,  28.23645806,\n",
      "        34.47476816,  32.84113884,  36.89828491,  27.11047006,\n",
      "        49.84464931,  28.48678851,  44.16883421,  42.50827622,\n",
      "        36.02462339,  25.61945772,  43.74696207,  36.1014173 ,\n",
      "        34.44684362,  53.64049339,  32.00138855,  50.26452518,\n",
      "        37.31317353,  40.25330925,  33.8893342 ,  45.48032475,\n",
      "        34.55255985,  75.06330156]), 'score_time': array([0.00997448, 0.00997329, 0.009974  , 0.00997353, 0.00997162,\n",
      "       0.01196885, 0.00897622, 0.00997376, 0.00997329, 0.01097178,\n",
      "       0.00997281, 0.0089767 , 0.00997329, 0.00897574, 0.01196766,\n",
      "       0.00997353, 0.01097059, 0.00997329, 0.01097035, 0.00997257,\n",
      "       0.04687524, 0.00997353, 0.01096773, 0.02892351, 0.00997376,\n",
      "       0.01097059, 0.01097131, 0.01495957, 0.0139637 , 0.01097035]), 'test_acc': array([0.84117647, 0.84117647, 0.85882353, 0.82352941, 0.82352941,\n",
      "       0.90588235, 0.85294118, 0.85294118, 0.87647059, 0.84117647,\n",
      "       0.87058824, 0.84117647, 0.88235294, 0.85882353, 0.84117647,\n",
      "       0.82941176, 0.91176471, 0.8       , 0.8       , 0.85882353,\n",
      "       0.82352941, 0.87058824, 0.82352941, 0.87058824, 0.82941176,\n",
      "       0.85294118, 0.81176471, 0.87647059, 0.82352941, 0.84705882]), 'test_precision': array([0.5       , 0.5       , 0.54054054, 0.46808511, 0.46153846,\n",
      "       0.64864865, 0.52272727, 0.52631579, 0.59375   , 0.5106383 ,\n",
      "       0.56410256, 0.5       , 0.58139535, 0.53846154, 0.5       ,\n",
      "       0.47916667, 0.65789474, 0.42222222, 0.42553191, 0.55555556,\n",
      "       0.46153846, 0.56756757, 0.46153846, 0.56410256, 0.48      ,\n",
      "       0.525     , 0.45098039, 0.58333333, 0.45714286, 0.52380952]), 'test_recall': array([0.88888889, 0.7037037 , 0.74074074, 0.81481481, 0.66666667,\n",
      "       0.88888889, 0.85185185, 0.74074074, 0.7037037 , 0.85714286,\n",
      "       0.81481481, 0.66666667, 0.92592593, 0.77777778, 0.77777778,\n",
      "       0.85185185, 0.92592593, 0.7037037 , 0.74074074, 0.71428571,\n",
      "       0.66666667, 0.77777778, 0.66666667, 0.81481481, 0.88888889,\n",
      "       0.77777778, 0.85185185, 0.77777778, 0.59259259, 0.78571429]), 'test_f1_weighted': array([0.85711876, 0.85143891, 0.8672954 , 0.84074256, 0.83570787,\n",
      "       0.91153026, 0.86589997, 0.86244344, 0.88060587, 0.85560044,\n",
      "       0.87951911, 0.84994084, 0.89231248, 0.8685663 , 0.85404441,\n",
      "       0.84653496, 0.91746606, 0.81828358, 0.81950823, 0.86560102,\n",
      "       0.83570787, 0.87835411, 0.83570787, 0.87951911, 0.84743005,\n",
      "       0.86370668, 0.83210252, 0.88328732, 0.83237547, 0.8583878 ])}\n"
     ]
    }
   ],
   "source": [
    "#ΟΤΑΝ ΧΡΗΣΙΜΟΠΟΙΩ PIPELINE ΔΙΝΩ ΠΑΝΤΑ ΣΑΝ ΠΑΡΑΜΕΤΡΟ ΟΛΟ ΤΟ Χ ΚΑΙ Υ ΚΑΙ ΑΝΑΛΑΜΒΑΝΕΙ ΤΟ PIPELINE TA ΥΠΟΛΟΙΠΑ\n",
    "steps = [('over', RandomOverSampler(sampling_strategy='minority')), ('model',SVC(kernel='linear'))]\n",
    "pipeline = Pipeline(steps=steps)\n",
    "cv = RepeatedStratifiedKFold(n_splits=10, n_repeats=3, random_state=1)\n",
    "scores2=cross_validate(pipeline,x,y, cv=cv,scoring=scoring,n_jobs=-1)\n",
    "print(scores2)"
   ]
  },
  {
   "cell_type": "markdown",
   "metadata": {},
   "source": [
    "SMOTE WITH CROSS VALIDATION"
   ]
  },
  {
   "cell_type": "code",
   "execution_count": null,
   "metadata": {},
   "outputs": [
    {
     "name": "stdout",
     "output_type": "stream",
     "text": [
      "0.8539215686274507\n",
      "0.5333548468641888\n",
      "0.7257495590828925\n",
      "0.8625711615854337\n"
     ]
    }
   ],
   "source": [
    "steps = [('over', SMOTE()), ('model',SVC(kernel='linear'))]\n",
    "pipeline = Pipeline(steps=steps)\n",
    "cv = RepeatedStratifiedKFold(n_splits=10, n_repeats=3, random_state=1)\n",
    "scores2=cross_validate(pipeline,x,y, cv=cv,scoring=scoring,n_jobs=-1)\n",
    "print(scores2[\"test_acc\"].mean())\n",
    "print(scores2[\"test_precision\"].mean())\n",
    "print(scores2[\"test_recall\"].mean())\n",
    "print(scores2[\"test_f1_weighted\"].mean())"
   ]
  },
  {
   "cell_type": "code",
   "execution_count": null,
   "metadata": {},
   "outputs": [
    {
     "name": "stdout",
     "output_type": "stream",
     "text": [
      "0.85\n",
      "0.5242799271837234\n",
      "0.7158289241622573\n",
      "0.8588780892234156\n"
     ]
    }
   ],
   "source": [
    "#Δε βοηθησε και πολυ...\n",
    "steps = [('over', SMOTE(k_neighbors=20)), ('model',SVC(kernel='linear'))]\n",
    "pipeline = Pipeline(steps=steps)\n",
    "scores2=cross_validate(pipeline,x,y, cv=cv,scoring=scoring,n_jobs=-1)\n",
    "print(scores2[\"test_acc\"].mean())\n",
    "print(scores2[\"test_precision\"].mean())\n",
    "print(scores2[\"test_recall\"].mean())\n",
    "print(scores2[\"test_f1_weighted\"].mean())"
   ]
  },
  {
   "cell_type": "code",
   "execution_count": null,
   "metadata": {},
   "outputs": [
    {
     "name": "stdout",
     "output_type": "stream",
     "text": [
      "0.8584313725490194\n",
      "0.5471593630302428\n",
      "0.7318783068783069\n",
      "0.8665581571294954\n"
     ]
    }
   ],
   "source": [
    "steps = [('under', CondensedNearestNeighbour(n_neighbors=5)), ('model',SVC(kernel='linear'))]\n",
    "pipeline = Pipeline(steps=steps)\n",
    "scores2=cross_validate(pipeline,x,y, cv=cv,scoring=scoring,n_jobs=-1)\n",
    "print(scores2[\"test_acc\"].mean())\n",
    "print(scores2[\"test_precision\"].mean())\n",
    "print(scores2[\"test_recall\"].mean())\n",
    "print(scores2[\"test_f1_weighted\"].mean())"
   ]
  },
  {
   "cell_type": "code",
   "execution_count": null,
   "metadata": {},
   "outputs": [
    {
     "name": "stdout",
     "output_type": "stream",
     "text": [
      "Best: 0.894706 using {'model__C': 0.1}\n",
      "0.894706 (0.016453) with: {'model__C': 0.1}\n",
      "0.894510 (0.016564) with: {'model__C': 0.2}\n",
      "0.894314 (0.016602) with: {'model__C': 0.30000000000000004}\n",
      "0.894510 (0.016633) with: {'model__C': 0.4}\n",
      "0.894706 (0.016383) with: {'model__C': 0.5}\n",
      "0.894706 (0.016383) with: {'model__C': 0.6}\n",
      "0.894510 (0.016564) with: {'model__C': 0.7000000000000001}\n",
      "0.894510 (0.016564) with: {'model__C': 0.8}\n",
      "0.894314 (0.016392) with: {'model__C': 0.9}\n"
     ]
    }
   ],
   "source": [
    "steps = [('under', TomekLinks()), ('model',SVC(kernel='linear'))]\n",
    "pipeline = Pipeline(steps=steps)\n",
    "c_range=np.arange(0.1,1,0.1)\n",
    "param_grid = {\"model__C\":c_range}\n",
    "# define evaluation procedure\n",
    "#cv = RepeatedStratifiedKFold(n_splits=10, n_repeats=3, random_state=1)\n",
    "# define grid search\n",
    "grid = GridSearchCV(pipeline, param_grid=param_grid, n_jobs=-1, cv=cv,scoring='accuracy')\n",
    "# execute the grid search\n",
    "grid_result = grid.fit(X, y)\n",
    "# report the best configuration\n",
    "\n",
    "print('Best: %f using %s' % (grid_result.best_score_, grid_result.best_params_))\n",
    "# report all configurations\n",
    "means = grid_result.cv_results_['mean_test_score']\n",
    "stds = grid_result.cv_results_['std_test_score']\n",
    "params = grid_result.cv_results_['params']\n",
    "\n",
    "for mean, stdev, param in zip(means, stds, params):\n",
    "    \n",
    "    print('%f (%f) with: %r' % (mean, stdev, param))"
   ]
  },
  {
   "cell_type": "code",
   "execution_count": null,
   "metadata": {},
   "outputs": [
    {
     "name": "stdout",
     "output_type": "stream",
     "text": [
      "0.900392156862745\n",
      "0.7418604477837216\n",
      "0.5804673721340387\n",
      "0.8948905840980058\n"
     ]
    }
   ],
   "source": [
    "steps = [('under', TomekLinks()), ('model',SVC(kernel='linear'))]\n",
    "pipeline = Pipeline(steps=steps)\n",
    "scores2=cross_validate(pipeline,x,y, cv=cv,scoring=scoring,n_jobs=-1)\n",
    "print(scores2[\"test_acc\"].mean())\n",
    "print(scores2[\"test_precision\"].mean())\n",
    "print(scores2[\"test_recall\"].mean())\n",
    "print(scores2[\"test_f1_weighted\"].mean())"
   ]
  },
  {
   "cell_type": "code",
   "execution_count": null,
   "metadata": {},
   "outputs": [
    {
     "name": "stdout",
     "output_type": "stream",
     "text": [
      "0.888627450980392\n",
      "0.6513266650318468\n",
      "0.6579365079365079\n",
      "0.8886222484887639\n"
     ]
    }
   ],
   "source": [
    "steps = [('under', EditedNearestNeighbours(n_neighbors=3)), ('model',SVC(kernel='linear'))]\n",
    "pipeline = Pipeline(steps=steps)\n",
    "scores2=cross_validate(pipeline,x,y, cv=cv,scoring=scoring,n_jobs=-1)\n",
    "print(scores2[\"test_acc\"].mean())\n",
    "print(scores2[\"test_precision\"].mean())\n",
    "print(scores2[\"test_recall\"].mean())\n",
    "print(scores2[\"test_f1_weighted\"].mean())"
   ]
  },
  {
   "cell_type": "code",
   "execution_count": null,
   "metadata": {},
   "outputs": [
    {
     "name": "stdout",
     "output_type": "stream",
     "text": [
      "0.8756862745098036\n",
      "0.5959947329141181\n",
      "0.7132716049382718\n",
      "0.8800631291644863\n"
     ]
    }
   ],
   "source": [
    "steps = [('under', RepeatedEditedNearestNeighbours()), ('model',SVC(kernel='linear'))]\n",
    "pipeline = Pipeline(steps=steps)\n",
    "scores2=cross_validate(pipeline,x,y, cv=cv,scoring=scoring,n_jobs=-1)\n",
    "print(scores2[\"test_acc\"].mean())\n",
    "print(scores2[\"test_precision\"].mean())\n",
    "print(scores2[\"test_recall\"].mean())\n",
    "print(scores2[\"test_f1_weighted\"].mean())"
   ]
  },
  {
   "cell_type": "code",
   "execution_count": null,
   "metadata": {},
   "outputs": [
    {
     "name": "stdout",
     "output_type": "stream",
     "text": [
      "0.883921568627451\n",
      "0.6268562256898426\n",
      "0.6862433862433862\n",
      "0.8859379752205355\n"
     ]
    }
   ],
   "source": [
    "steps = [('under', AllKNN()), ('model',SVC(kernel='linear'))]\n",
    "pipeline = Pipeline(steps=steps)\n",
    "scores2=cross_validate(pipeline,x,y, cv=cv,scoring=scoring,n_jobs=-1)\n",
    "print(scores2[\"test_acc\"].mean())\n",
    "print(scores2[\"test_precision\"].mean())\n",
    "print(scores2[\"test_recall\"].mean())\n",
    "print(scores2[\"test_f1_weighted\"].mean())\n"
   ]
  },
  {
   "cell_type": "code",
   "execution_count": null,
   "metadata": {},
   "outputs": [
    {
     "name": "stdout",
     "output_type": "stream",
     "text": [
      "0.880392156862745\n",
      "0.6130298949291213\n",
      "0.6914902998236331\n",
      "0.8830488038271403\n"
     ]
    }
   ],
   "source": [
    "steps = [('under', OneSidedSelection(n_neighbors=1, n_seeds_S=300)), ('model',SVC(kernel='linear'))]\n",
    "pipeline = Pipeline(steps=steps)\n",
    "scores2=cross_validate(pipeline,x,y, cv=cv,scoring=scoring,n_jobs=-1)\n",
    "print(scores2[\"test_acc\"].mean())\n",
    "print(scores2[\"test_precision\"].mean())\n",
    "print(scores2[\"test_recall\"].mean())\n",
    "print(scores2[\"test_f1_weighted\"].mean())"
   ]
  },
  {
   "cell_type": "code",
   "execution_count": null,
   "metadata": {},
   "outputs": [
    {
     "name": "stdout",
     "output_type": "stream",
     "text": [
      "0.886078431372549\n",
      "0.6391243010676007\n",
      "0.664153439153439\n",
      "0.8867357920449377\n"
     ]
    }
   ],
   "source": [
    "steps = [('under', NeighbourhoodCleaningRule(n_neighbors=3, threshold_cleaning=0.5)), ('model',SVC(kernel='linear'))]\n",
    "pipeline = Pipeline(steps=steps)\n",
    "scores2=cross_validate(pipeline,x,y, cv=cv,scoring=scoring,n_jobs=-1)\n",
    "print(scores2[\"test_acc\"].mean())\n",
    "print(scores2[\"test_precision\"].mean())\n",
    "print(scores2[\"test_recall\"].mean())\n",
    "print(scores2[\"test_f1_weighted\"].mean())"
   ]
  },
  {
   "cell_type": "markdown",
   "metadata": {},
   "source": [
    "RANDOM OVERSAMPLING + UNDERSAMPLING"
   ]
  },
  {
   "cell_type": "code",
   "execution_count": null,
   "metadata": {},
   "outputs": [
    {
     "name": "stdout",
     "output_type": "stream",
     "text": [
      "0.8831372549019606\n",
      "0.6232245761870031\n",
      "0.6936067019400354\n",
      "0.8855417339987148\n"
     ]
    }
   ],
   "source": [
    "οver=RandomOverSampler(sampling_strategy=0.5)\n",
    "under= RandomUnderSampler(sampling_strategy=0.5)\n",
    "model=SVC(kernel='linear')\n",
    "steps = [('οver', οver), ('under',under),('m', model)]\n",
    "pipeline = Pipeline(steps=steps)\n",
    "scores2=cross_validate(pipeline,x,y, cv=cv,scoring=scoring,n_jobs=-1)\n",
    "print(scores2[\"test_acc\"].mean())\n",
    "print(scores2[\"test_precision\"].mean())\n",
    "print(scores2[\"test_recall\"].mean())\n",
    "print(scores2[\"test_f1_weighted\"].mean())"
   ]
  },
  {
   "cell_type": "markdown",
   "metadata": {},
   "source": [
    "Grid Search Probability Calibration With SVM"
   ]
  },
  {
   "cell_type": "code",
   "execution_count": null,
   "metadata": {},
   "outputs": [
    {
     "name": "stdout",
     "output_type": "stream",
     "text": [
      "Best: 0.915374 using {'cv': 3, 'method': 'sigmoid'}\n",
      "('acc',)\n",
      "0.886667 (0.012333) with: {'cv': 2, 'method': 'sigmoid'}\n",
      "0.894706 (0.013614) with: {'cv': 2, 'method': 'isotonic'}\n",
      "0.898824 (0.013276) with: {'cv': 3, 'method': 'sigmoid'}\n",
      "0.902549 (0.013558) with: {'cv': 3, 'method': 'isotonic'}\n",
      "0.899608 (0.013494) with: {'cv': 4, 'method': 'sigmoid'}\n",
      "0.901373 (0.016891) with: {'cv': 4, 'method': 'isotonic'}\n",
      "('f1',)\n",
      "0.471704 (0.078518) with: {'cv': 2, 'method': 'sigmoid'}\n",
      "0.529980 (0.087039) with: {'cv': 2, 'method': 'isotonic'}\n",
      "0.562485 (0.080262) with: {'cv': 3, 'method': 'sigmoid'}\n",
      "0.591568 (0.077536) with: {'cv': 3, 'method': 'isotonic'}\n",
      "0.577811 (0.077403) with: {'cv': 4, 'method': 'sigmoid'}\n",
      "0.600265 (0.084387) with: {'cv': 4, 'method': 'isotonic'}\n",
      "('roc_auc',)\n",
      "0.910925 (0.030807) with: {'cv': 2, 'method': 'sigmoid'}\n",
      "0.907121 (0.030647) with: {'cv': 2, 'method': 'isotonic'}\n",
      "0.915374 (0.029408) with: {'cv': 3, 'method': 'sigmoid'}\n",
      "0.914468 (0.029838) with: {'cv': 3, 'method': 'isotonic'}\n",
      "0.912767 (0.028838) with: {'cv': 4, 'method': 'sigmoid'}\n",
      "0.909982 (0.029012) with: {'cv': 4, 'method': 'isotonic'}\n"
     ]
    }
   ],
   "source": [
    "#Σε αυτο το σημειο πρεπει να πω το εξης: Εδω κανουμε Probability Calibration του μοντελου. Αυτο πρακτικα σημαινει οτι το μοντελο μας το εχουμε ετοιμο. Το λεω αυτο για να \n",
    "#εξηγησω οτι δεν εχει νοημα να προσπαθησω να ψαξω και παραμετρους του μοντελου μεσα στο gridsearch που ακολουθει. Πχ να εψαχνα το C ενος SVM. Πρωτα θα εχω βρει ποιο ειναι το \n",
    "#το μοντελο μου (ενδεχομενως να εχω βρει τις παραμετρους με gridsearch) και μετα σε αυτο το (ηδη γνωστο σε αυτο το σημειο) μοντελο θα παω να κανω Probability Calibration με τον \n",
    "# κωδικα που ακολουθει\n",
    "\n",
    "clf = SVC(kernel='linear')\n",
    "calibrated = CalibratedClassifierCV(clf)\n",
    "# define grid\n",
    "param_grid = dict(cv=[2,3,4], method=['sigmoid','isotonic'])\n",
    "# define evaluation procedure\n",
    "cv = RepeatedStratifiedKFold(n_splits=10, n_repeats=3, random_state=1)\n",
    "# define grid search\n",
    "grid = GridSearchCV(estimator=calibrated, param_grid=param_grid, n_jobs=-1, cv=cv,scoring=scoring,refit=\"roc_auc\",return_train_score=True)\n",
    "#Εδω εχω διαφοροποιηθει απο το βιβλιο κανοντας 2 πραματα extra. 1. εβαλα παραπανω απο μια μετρικες (χρησιμοποιωντας το scoring εβαλα 3) 2. Κανω refit. refit σημαινει οτι \n",
    "#μου βρισκει τις καλυτερες τιμες των παραμετρων βασισμενο στο scorer που του οριζω στην παραμετρο refit. Εγω με το scoring λεω θελω να μου βρεις τις καλυτερες παραμετρους \n",
    "#για 3 μετρικες. Με το refit του λεω οτι απο τα αποτελεσματα που θα μου επιστρεψεις θελω το καλυτερο (grid_result.best_score) με βαση τη συγκεκριμενη μετρικη. Το refit\n",
    "#δεν ειναι υποχρεωτικο να το βαλω. Πρακτικα δεν κανει τιποτα παραπανω απο το να σου πει ποιο ειναι το καλυτερο score που απεδωσε η μετρικη που ορισες στο refit\n",
    "# execute the grid search\n",
    "grid_result = grid.fit(x, y)\n",
    "# report the best configuration\n",
    "print('Best: %f using %s' % (grid_result.best_score_, grid_result.best_params_))\n",
    "# report all configurations\n",
    "for scorer in zip(sorted(scoring)):\n",
    "    print(scorer)\n",
    "    means = grid_result.cv_results_['mean_test_%s' % scorer]\n",
    "    stds = grid_result.cv_results_['std_test_%s' % scorer]\n",
    "    params = grid_result.cv_results_['params']\n",
    "    for mean, stdev, param in zip(means, stds, params):\n",
    "        print('%f (%f) with: %r' % (mean, stdev, param))\n",
    "  \n"
   ]
  },
  {
   "cell_type": "markdown",
   "metadata": {},
   "source": [
    "#BAGGING"
   ]
  },
  {
   "cell_type": "code",
   "execution_count": null,
   "metadata": {},
   "outputs": [
    {
     "name": "stdout",
     "output_type": "stream",
     "text": [
      "              precision    recall  f1-score   support\n",
      "\n",
      "           0       0.93      0.98      0.95       286\n",
      "           1       0.82      0.59      0.69        54\n",
      "\n",
      "    accuracy                           0.91       340\n",
      "   macro avg       0.87      0.78      0.82       340\n",
      "weighted avg       0.91      0.91      0.91       340\n",
      "\n"
     ]
    }
   ],
   "source": [
    "from imblearn.ensemble import BalancedBaggingClassifier\n",
    "model = RandomForestClassifier(n_estimators=10, max_depth=8,class_weight='balanced_subsample')\n",
    "cv = RepeatedStratifiedKFold(n_splits=10, n_repeats=3, random_state=1)\n",
    "model.fit(X_train, y_train)\n",
    "y_pred = model.predict(X_test)\n",
    "#scores = cross_val_score(model, x, y, scoring='roc_auc', cv=cv, n_jobs=-1)\n",
    "print(classification_report(y_test,y_pred))\n"
   ]
  },
  {
   "cell_type": "code",
   "execution_count": null,
   "metadata": {},
   "outputs": [
    {
     "name": "stdout",
     "output_type": "stream",
     "text": [
      "Mean ROC AUC: 0.920\n"
     ]
    }
   ],
   "source": [
    "from imblearn.ensemble import EasyEnsembleClassifier\n",
    "model = EasyEnsembleClassifier(n_estimators=100)\n",
    "cv = RepeatedStratifiedKFold(n_splits=10, n_repeats=3, random_state=1)\n",
    "# evaluate model\n",
    "scores = cross_val_score(model, x, y, scoring='roc_auc', cv=cv, n_jobs=-1)\n",
    "print('Mean ROC AUC: %.3f' % np.mean(scores))"
   ]
  },
  {
   "cell_type": "code",
   "execution_count": null,
   "metadata": {},
   "outputs": [
    {
     "ename": "NameError",
     "evalue": "name 'X_train' is not defined",
     "output_type": "error",
     "traceback": [
      "\u001b[1;31m---------------------------------------------------------------------------\u001b[0m",
      "\u001b[1;31mNameError\u001b[0m                                 Traceback (most recent call last)",
      "\u001b[1;32m~\\AppData\\Local\\Temp/ipykernel_2200/3040757586.py\u001b[0m in \u001b[0;36m<module>\u001b[1;34m\u001b[0m\n\u001b[0;32m      1\u001b[0m \u001b[0mclf\u001b[0m \u001b[1;33m=\u001b[0m \u001b[0mMLPClassifier\u001b[0m\u001b[1;33m(\u001b[0m\u001b[0msolver\u001b[0m\u001b[1;33m=\u001b[0m\u001b[1;34m'lbfgs'\u001b[0m\u001b[1;33m,\u001b[0m \u001b[0malpha\u001b[0m\u001b[1;33m=\u001b[0m\u001b[1;36m1e-5\u001b[0m\u001b[1;33m,\u001b[0m\u001b[0mhidden_layer_sizes\u001b[0m\u001b[1;33m=\u001b[0m\u001b[1;33m(\u001b[0m\u001b[1;36m5\u001b[0m\u001b[1;33m,\u001b[0m \u001b[1;36m2\u001b[0m\u001b[1;33m)\u001b[0m\u001b[1;33m,\u001b[0m \u001b[0mrandom_state\u001b[0m\u001b[1;33m=\u001b[0m\u001b[1;36m1\u001b[0m\u001b[1;33m)\u001b[0m\u001b[1;33m\u001b[0m\u001b[1;33m\u001b[0m\u001b[0m\n\u001b[1;32m----> 2\u001b[1;33m \u001b[0mclf\u001b[0m\u001b[1;33m.\u001b[0m\u001b[0mfit\u001b[0m\u001b[1;33m(\u001b[0m\u001b[0mX_train\u001b[0m\u001b[1;33m,\u001b[0m \u001b[0my_train\u001b[0m\u001b[1;33m)\u001b[0m\u001b[1;33m\u001b[0m\u001b[1;33m\u001b[0m\u001b[0m\n\u001b[0m\u001b[0;32m      3\u001b[0m \u001b[0my_pred\u001b[0m \u001b[1;33m=\u001b[0m \u001b[0mclf\u001b[0m\u001b[1;33m.\u001b[0m\u001b[0mpredict\u001b[0m\u001b[1;33m(\u001b[0m\u001b[0mX_test\u001b[0m\u001b[1;33m)\u001b[0m\u001b[1;33m\u001b[0m\u001b[1;33m\u001b[0m\u001b[0m\n\u001b[0;32m      4\u001b[0m \u001b[0mprint\u001b[0m\u001b[1;33m(\u001b[0m\u001b[0mclassification_report\u001b[0m\u001b[1;33m(\u001b[0m\u001b[0my_test\u001b[0m\u001b[1;33m,\u001b[0m\u001b[0my_pred\u001b[0m\u001b[1;33m)\u001b[0m\u001b[1;33m)\u001b[0m\u001b[1;33m\u001b[0m\u001b[1;33m\u001b[0m\u001b[0m\n",
      "\u001b[1;31mNameError\u001b[0m: name 'X_train' is not defined"
     ]
    }
   ],
   "source": [
    "clf = MLPClassifier(solver='lbfgs', alpha=1e-5,hidden_layer_sizes=(5, 2), random_state=1)\n",
    "clf.fit(X_train, y_train)\n",
    "y_pred = clf.predict(X_test)\n",
    "print(classification_report(y_test,y_pred))"
   ]
  }
 ],
 "metadata": {
  "interpreter": {
   "hash": "f87d4791dc38543bac2a10c0942e662659ddefc71c814c91be29721be80bc06f"
  },
  "kernelspec": {
   "display_name": "Python 3.9.7 64-bit",
   "name": "python3"
  },
  "language_info": {
   "codemirror_mode": {
    "name": "ipython",
    "version": 3
   },
   "file_extension": ".py",
   "mimetype": "text/x-python",
   "name": "python",
   "nbconvert_exporter": "python",
   "pygments_lexer": "ipython3",
   "version": "3.9.7"
  },
  "orig_nbformat": 4
 },
 "nbformat": 4,
 "nbformat_minor": 2
}
